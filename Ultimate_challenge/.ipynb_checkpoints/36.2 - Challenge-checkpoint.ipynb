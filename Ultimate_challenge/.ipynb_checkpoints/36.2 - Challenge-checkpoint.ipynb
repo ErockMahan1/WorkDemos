{
 "cells": [
  {
   "cell_type": "code",
   "execution_count": 367,
   "id": "e1b8c4b7",
   "metadata": {},
   "outputs": [
    {
     "name": "stdout",
     "output_type": "stream",
     "text": [
      "Requirement already satisfied: xgboost in c:\\users\\emcdo\\anaconda3\\lib\\site-packages (3.0.2)\n",
      "Requirement already satisfied: numpy in c:\\users\\emcdo\\anaconda3\\lib\\site-packages (from xgboost) (1.26.4)\n",
      "Requirement already satisfied: scipy in c:\\users\\emcdo\\anaconda3\\lib\\site-packages (from xgboost) (1.13.1)\n",
      "Note: you may need to restart the kernel to use updated packages.\n"
     ]
    }
   ],
   "source": [
    "pip install xgboost"
   ]
  },
  {
   "cell_type": "code",
   "execution_count": 439,
   "id": "2137ebdb",
   "metadata": {},
   "outputs": [],
   "source": [
    "from datetime import timedelta\n",
    "from imblearn.over_sampling import RandomOverSampler\n",
    "from scipy.stats import ttest_ind\n",
    "from sklearn.compose import ColumnTransformer\n",
    "from sklearn.ensemble import RandomForestClassifier\n",
    "from sklearn.linear_model import LogisticRegression\n",
    "from sklearn.metrics import classification_report, confusion_matrix, f1_score, precision_recall_curve, roc_auc_score, roc_curve\n",
    "from sklearn.model_selection import train_test_split\n",
    "from sklearn.pipeline import Pipeline\n",
    "from sklearn.preprocessing import OneHotEncoder, StandardScaler\n",
    "from xgboost import plot_importance, XGBClassifier\n",
    "\n",
    "import joblib\n",
    "import numpy as np\n",
    "import pandas as pd\n",
    "import matplotlib.dates as mdates\n",
    "import matplotlib.pyplot as plt\n",
    "import seaborn as sns\n",
    "\n",
    "#It is possible (even probable) I'm not using all of these by the end; I didn't want to remove anything as I changed tactics, just in case I forgot where else I was using it!"
   ]
  },
  {
   "cell_type": "code",
   "execution_count": 369,
   "id": "89a2b576",
   "metadata": {},
   "outputs": [
    {
     "name": "stdout",
     "output_type": "stream",
     "text": [
      "           login_time\n",
      "0 1970-01-01 20:13:18\n",
      "1 1970-01-01 20:16:10\n",
      "2 1970-01-01 20:16:37\n",
      "3 1970-01-01 20:16:36\n",
      "4 1970-01-01 20:26:21\n"
     ]
    }
   ],
   "source": [
    "df = pd.read_json('logins.json')\n",
    "print (df.head())"
   ]
  },
  {
   "cell_type": "code",
   "execution_count": 370,
   "id": "e1a5d44f",
   "metadata": {},
   "outputs": [
    {
     "data": {
      "text/plain": [
       "<bound method DataFrame.info of                login_time\n",
       "0     1970-01-01 20:13:18\n",
       "1     1970-01-01 20:16:10\n",
       "2     1970-01-01 20:16:37\n",
       "3     1970-01-01 20:16:36\n",
       "4     1970-01-01 20:26:21\n",
       "...                   ...\n",
       "93137 1970-04-13 18:50:19\n",
       "93138 1970-04-13 18:43:56\n",
       "93139 1970-04-13 18:54:02\n",
       "93140 1970-04-13 18:57:38\n",
       "93141 1970-04-13 18:54:23\n",
       "\n",
       "[93142 rows x 1 columns]>"
      ]
     },
     "execution_count": 370,
     "metadata": {},
     "output_type": "execute_result"
    }
   ],
   "source": [
    "df.info"
   ]
  },
  {
   "cell_type": "code",
   "execution_count": 371,
   "id": "01fa328a",
   "metadata": {},
   "outputs": [
    {
     "data": {
      "text/html": [
       "<div>\n",
       "<style scoped>\n",
       "    .dataframe tbody tr th:only-of-type {\n",
       "        vertical-align: middle;\n",
       "    }\n",
       "\n",
       "    .dataframe tbody tr th {\n",
       "        vertical-align: top;\n",
       "    }\n",
       "\n",
       "    .dataframe thead th {\n",
       "        text-align: right;\n",
       "    }\n",
       "</style>\n",
       "<table border=\"1\" class=\"dataframe\">\n",
       "  <thead>\n",
       "    <tr style=\"text-align: right;\">\n",
       "      <th></th>\n",
       "      <th>login_time</th>\n",
       "    </tr>\n",
       "  </thead>\n",
       "  <tbody>\n",
       "    <tr>\n",
       "      <th>count</th>\n",
       "      <td>93142</td>\n",
       "    </tr>\n",
       "    <tr>\n",
       "      <th>mean</th>\n",
       "      <td>1970-02-26 19:09:39.779648278</td>\n",
       "    </tr>\n",
       "    <tr>\n",
       "      <th>min</th>\n",
       "      <td>1970-01-01 20:12:16</td>\n",
       "    </tr>\n",
       "    <tr>\n",
       "      <th>25%</th>\n",
       "      <td>1970-02-04 10:37:19.750000</td>\n",
       "    </tr>\n",
       "    <tr>\n",
       "      <th>50%</th>\n",
       "      <td>1970-03-01 06:33:05.500000</td>\n",
       "    </tr>\n",
       "    <tr>\n",
       "      <th>75%</th>\n",
       "      <td>1970-03-22 04:01:10.750000</td>\n",
       "    </tr>\n",
       "    <tr>\n",
       "      <th>max</th>\n",
       "      <td>1970-04-13 18:57:38</td>\n",
       "    </tr>\n",
       "  </tbody>\n",
       "</table>\n",
       "</div>"
      ],
      "text/plain": [
       "                          login_time\n",
       "count                          93142\n",
       "mean   1970-02-26 19:09:39.779648278\n",
       "min              1970-01-01 20:12:16\n",
       "25%       1970-02-04 10:37:19.750000\n",
       "50%       1970-03-01 06:33:05.500000\n",
       "75%       1970-03-22 04:01:10.750000\n",
       "max              1970-04-13 18:57:38"
      ]
     },
     "execution_count": 371,
     "metadata": {},
     "output_type": "execute_result"
    }
   ],
   "source": [
    "df.describe()"
   ]
  },
  {
   "cell_type": "code",
   "execution_count": 372,
   "id": "0ad3d915",
   "metadata": {},
   "outputs": [
    {
     "data": {
      "text/plain": [
       "login_time    0\n",
       "dtype: int64"
      ]
     },
     "execution_count": 372,
     "metadata": {},
     "output_type": "execute_result"
    }
   ],
   "source": [
    "df.isnull().sum()"
   ]
  },
  {
   "cell_type": "code",
   "execution_count": 373,
   "id": "a99dda3f",
   "metadata": {},
   "outputs": [
    {
     "data": {
      "text/plain": [
       "login_time    datetime64[ns]\n",
       "dtype: object"
      ]
     },
     "execution_count": 373,
     "metadata": {},
     "output_type": "execute_result"
    }
   ],
   "source": [
    "df.dtypes"
   ]
  },
  {
   "cell_type": "code",
   "execution_count": 374,
   "id": "53e02f32",
   "metadata": {},
   "outputs": [],
   "source": [
    "df.set_index('login_time', inplace=True)"
   ]
  },
  {
   "cell_type": "markdown",
   "id": "c6e62369",
   "metadata": {},
   "source": [
    "# Part 1 - Exploratory Data Analysis"
   ]
  },
  {
   "cell_type": "code",
   "execution_count": 375,
   "id": "12bbe825",
   "metadata": {},
   "outputs": [
    {
     "name": "stdout",
     "output_type": "stream",
     "text": [
      "Empty DataFrame\n",
      "Columns: []\n",
      "Index: [1970-01-01 20:13:18, 1970-01-01 20:16:10, 1970-01-01 20:16:37, 1970-01-01 20:16:36, 1970-01-01 20:26:21, 1970-01-01 20:21:41, 1970-01-01 20:12:16, 1970-01-01 20:35:47, 1970-01-01 20:35:38, 1970-01-01 20:47:52, 1970-01-01 20:26:05, 1970-01-01 20:31:03, 1970-01-01 20:34:46, 1970-01-01 20:36:34, 1970-01-01 20:39:25, 1970-01-01 20:40:37, 1970-01-01 20:34:58, 1970-01-01 20:43:59, 1970-01-01 20:47:46, 1970-01-01 20:46:34, 1970-01-01 20:56:07, 1970-01-01 20:49:12, 1970-01-01 20:59:06, 1970-01-01 20:59:59, 1970-01-01 21:15:01, 1970-01-01 21:09:24, 1970-01-01 21:19:24, 1970-01-01 21:20:53, 1970-01-01 21:29:19, 1970-01-01 21:58:05, 1970-01-01 21:51:51, 1970-01-01 21:59:40, 1970-01-01 22:08:34, 1970-01-01 22:02:51, 1970-01-01 21:58:32, 1970-01-01 22:02:31, 1970-01-01 22:05:32, 1970-01-01 22:02:46, 1970-01-01 22:10:28, 1970-01-01 22:11:58, 1970-01-01 22:01:05, 1970-01-01 22:19:10, 1970-01-01 22:16:54, 1970-01-01 22:17:32, 1970-01-01 22:12:05, 1970-01-01 22:23:03, 1970-01-01 22:22:14, 1970-01-01 22:25:09, 1970-01-01 22:24:04, 1970-01-01 22:19:59, 1970-01-01 22:31:32, 1970-01-01 23:06:11, 1970-01-01 22:55:56, 1970-01-01 23:07:09, 1970-01-01 23:11:56, 1970-01-01 23:04:35, 1970-01-01 23:04:28, 1970-01-01 23:12:51, 1970-01-01 23:08:05, 1970-01-01 23:11:37, 1970-01-01 23:09:31, 1970-01-01 22:57:55, 1970-01-01 23:14:00, 1970-01-01 23:09:06, 1970-01-01 23:07:31, 1970-01-01 23:09:13, 1970-01-01 22:56:25, 1970-01-01 23:09:55, 1970-01-01 23:18:34, 1970-01-01 23:09:22, 1970-01-01 23:21:30, 1970-01-01 23:07:45, 1970-01-01 23:23:25, 1970-01-01 23:16:11, 1970-01-01 23:22:05, 1970-01-01 23:17:48, 1970-01-01 23:24:13, 1970-01-01 23:25:52, 1970-01-01 23:33:36, 1970-01-01 23:31:00, 1970-01-01 23:20:43, 1970-01-01 23:26:11, 1970-01-01 23:21:06, 1970-01-01 23:26:59, 1970-01-01 23:30:37, 1970-01-01 23:38:24, 1970-01-01 23:38:05, 1970-01-01 23:33:54, 1970-01-01 23:30:32, 1970-01-01 23:45:41, 1970-01-01 23:43:25, 1970-01-01 23:37:24, 1970-01-01 23:35:01, 1970-01-01 23:43:22, 1970-01-01 23:52:57, 1970-01-01 23:47:36, 1970-01-01 23:45:00, 1970-01-01 23:27:12, 1970-01-01 23:45:34, 1970-01-01 23:44:47, ...]\n",
      "\n",
      "[93142 rows x 0 columns]\n"
     ]
    }
   ],
   "source": [
    "print(df)"
   ]
  },
  {
   "cell_type": "markdown",
   "id": "c043d2ee",
   "metadata": {},
   "source": [
    "## Groups of 15-minute intervals"
   ]
  },
  {
   "cell_type": "code",
   "execution_count": 376,
   "id": "d42383f2",
   "metadata": {},
   "outputs": [
    {
     "name": "stdout",
     "output_type": "stream",
     "text": [
      "login_time\n",
      "1970-01-01 20:00:00    2\n",
      "1970-01-01 20:15:00    6\n",
      "1970-01-01 20:30:00    9\n",
      "1970-01-01 20:45:00    7\n",
      "1970-01-01 21:00:00    1\n",
      "Freq: 15min, dtype: int64\n"
     ]
    }
   ],
   "source": [
    "login_counts_15m = df.resample('15min').size()\n",
    "\n",
    "print(login_counts_15m.head())"
   ]
  },
  {
   "cell_type": "code",
   "execution_count": 377,
   "id": "68a914ed",
   "metadata": {},
   "outputs": [
    {
     "data": {
      "image/png": "[encoded data removed]",
      "text/plain": [
       "<Figure size 640x480 with 1 Axes>"
      ]
     },
     "metadata": {},
     "output_type": "display_data"
    }
   ],
   "source": [
    "login_counts_15m.plot()\n",
    "plt.title('Login Count')\n",
    "plt.xlabel('Time')\n",
    "plt.ylabel('# of Logins')\n",
    "plt.show()"
   ]
  },
  {
   "cell_type": "code",
   "execution_count": 378,
   "id": "8f1844be",
   "metadata": {},
   "outputs": [],
   "source": [
    "# Get count of average time regardless of day\n",
    "logins_by_time = login_counts_15m.groupby(login_counts_15m.index.time).mean()"
   ]
  },
  {
   "cell_type": "code",
   "execution_count": 379,
   "id": "3c93d7f5",
   "metadata": {},
   "outputs": [
    {
     "data": {
      "image/png": "[encoded data removed]",
      "text/plain": [
       "<Figure size 640x480 with 1 Axes>"
      ]
     },
     "metadata": {},
     "output_type": "display_data"
    }
   ],
   "source": [
    "pd.Series(logins_by_time).plot()\n",
    "plt.title('Average Logins Times')\n",
    "plt.xlabel('Time')\n",
    "plt.ylabel('Average # of Logins')\n",
    "plt.grid(True)\n",
    "plt.show()"
   ]
  },
  {
   "cell_type": "markdown",
   "id": "c01459e9",
   "metadata": {},
   "source": [
    "### Initial Observations"
   ]
  },
  {
   "cell_type": "markdown",
   "id": "41d35c59",
   "metadata": {},
   "source": [
    "##### There are a handful of definite peaks and valleys with the login times."
   ]
  },
  {
   "cell_type": "code",
   "execution_count": 380,
   "id": "3d0caac3",
   "metadata": {},
   "outputs": [
    {
     "name": "stdout",
     "output_type": "stream",
     "text": [
      "22:30:00    16.509804\n",
      "01:30:00    16.401961\n",
      "22:15:00    16.196078\n",
      "22:45:00    16.049020\n",
      "22:00:00    16.019608\n",
      "11:30:00    15.901961\n",
      "01:15:00    15.666667\n",
      "23:00:00    15.421569\n",
      "11:45:00    15.392157\n",
      "21:45:00    15.235294\n",
      "dtype: float64\n"
     ]
    }
   ],
   "source": [
    "print(logins_by_time.sort_values(ascending=False).head(10))"
   ]
  },
  {
   "cell_type": "markdown",
   "id": "da66b6c3",
   "metadata": {},
   "source": [
    "###### Most of these logins happen in the early morning, around 22:30\n",
    "###### The second cluster of logins happens mostly around 01:30"
   ]
  },
  {
   "cell_type": "markdown",
   "id": "5a3073ce",
   "metadata": {},
   "source": [
    "##### The lowest period is between about 05:30 and 10:00"
   ]
  },
  {
   "cell_type": "markdown",
   "id": "e1698da3",
   "metadata": {},
   "source": [
    "##### But let's see how consistent that is from one day to the next:"
   ]
  },
  {
   "cell_type": "code",
   "execution_count": 381,
   "id": "249784b2",
   "metadata": {},
   "outputs": [
    {
     "data": {
      "image/png": "[encoded data removed]",
      "text/plain": [
       "<Figure size 1500x700 with 1 Axes>"
      ]
     },
     "metadata": {},
     "output_type": "display_data"
    }
   ],
   "source": [
    "avg_by_weekday['time_str'] = avg_by_weekday['time'].apply(lambda t: t.strftime('%H:%M'))\n",
    "\n",
    "plt.figure(figsize=(15, 7))\n",
    "for day in weekday_order:\n",
    "    subset = avg_by_weekday[avg_by_weekday['weekday'] == day]\n",
    "    plt.plot(subset['time_str'], subset['count'], label=day)\n",
    "\n",
    "plt.title('Day of Week')\n",
    "plt.xlabel('Time of Day')\n",
    "plt.ylabel('Average # of Logins')\n",
    "plt.xticks(rotation=45)\n",
    "\n",
    "\n",
    "# It was too crowded, so this only shows every hour\n",
    "hour_labels = [f'{h:02}:00' for h in range(24)]\n",
    "tick_positions = [i * 4 for i in range(24)]  # every 4th 15-min interval\n",
    "\n",
    "\n",
    "plt.xticks(ticks=tick_positions, labels=hour_labels, rotation=45)\n",
    "\n",
    "plt.legend()\n",
    "plt.grid(True)\n",
    "plt.show()\n"
   ]
  },
  {
   "cell_type": "markdown",
   "id": "48a3fc7f",
   "metadata": {},
   "source": [
    "######  On Saturday and Sunday, there is an  distinct peak between 04:00 and 05:00 that doesn't exist other days.  There is also a more steady number of weekend logins between 00:00 and 04:00, as well as 13:00 to 17:00"
   ]
  },
  {
   "cell_type": "markdown",
   "id": "3f802c82",
   "metadata": {},
   "source": [
    "##### It also looks like there is a small spike in logins between 22:00 and 23:00, especially on Fridays"
   ]
  },
  {
   "cell_type": "markdown",
   "id": "3f78cedf",
   "metadata": {},
   "source": [
    "##### I can also confirm the lowest period of logins on weekdays happens between 05:00 through 10:00.\n",
    "##### Weekend times are about the same, except with a more narrow window between 07:00 through 10:00."
   ]
  },
  {
   "cell_type": "code",
   "execution_count": 382,
   "id": "d552c5ff",
   "metadata": {},
   "outputs": [
    {
     "name": "stdout",
     "output_type": "stream",
     "text": [
      "There are 0 missing records.\n"
     ]
    }
   ],
   "source": [
    "print(f\"There are {logins_by_time.isnull().sum()} missing records.\")"
   ]
  },
  {
   "cell_type": "markdown",
   "id": "4bb5f96c",
   "metadata": {},
   "source": [
    "## Part 1 Summary\n",
    "### Login Behavior Summary by Time of Day and Day of Week\n",
    "\n",
    "- **Weekend Patterns (Saturday & Sunday):**\n",
    "  - A **distinct peak** occurs between **04:00 and 05:00** that is **not present** on weekdays.\n",
    "  - There is a **steady flow of logins** between:\n",
    "    - **00:00 to 04:00**\n",
    "    - **13:00 to 17:00**\n",
    "  - The **lowest login period** is between **07:00 and 10:00**.\n",
    "<p>\n",
    "- **Weekday Patterns (Monday–Friday):**\n",
    "  - There is a **small spike** in logins between **22:00 and 23:00**, especially on **Fridays**.\n",
    "  - The **lowest activity** generally happens between **05:00 and 10:00**.\n",
    "<p>\n",
    "- **General Login Clusters Across All Days:**\n",
    "  - The **quietest period** is typically from **05:30 to 10:00**.\n",
    "  - The **highest spikes** are typically from **11:30 and between 22:30 and 01:00**."
   ]
  },
  {
   "cell_type": "markdown",
   "id": "7eaff33b",
   "metadata": {},
   "source": [
    "#  Part 2 ‐ Experiment and metrics design"
   ]
  },
  {
   "cell_type": "markdown",
   "id": "d8b9f743",
   "metadata": {},
   "source": [
    " ## 1) What would you choose as the key measure of success of this experiment in encouraging driver partners to serve both cities, and why would you choose this metric?"
   ]
  },
  {
   "cell_type": "markdown",
   "id": "68d5cfec",
   "metadata": {},
   "source": [
    "##### In business, the primary objective is long-term profitability.  Without it, the company does not stay in business, regardless of other successes.  I notice this concern is not addressed, though it should be the number one priority; if the added expense of toll reimbursement is not offset by the successful services provided by serving both cities, it is irrelevant whatever other successes take place.\n",
    "\n",
    "### Information below is provided operating under the assumption that the change causes more success for the company as a whole.\n",
    "\n",
    "###### For drivers, personal profit is the biggest motivator that will successfully impel them to serve both cities (unless there is data to suggest otherwise).  Personal profit is measured by a combination of the following:\n",
    "  - Earned dollars minus expenses (What is the take-home pay?)\n",
    "  - Time spent for earnings (Was it worth the time spent?)\n",
    "\n",
    "##### If the intent is to encourage driver partners to choose to serve both cities, those are the metrics that must be addressed directly, and below are a few concerns that stem from those motivators:\n",
    "  - Additional drivers in both locations may decrease the overall number of rides available for drivers in both cities.  Is there a need for additional drivers that customers will respond to?\n",
    "  - Serving both cities will mean extra driving time.  Drivers are not traditionally paid unitl they pick up a fare, so even with the toll reimbursement, the mileage and time spent will increase the cost to the driver partner directly.\n",
    "   - Whether the amount of time spent is \"worthwhile\" is an indivivdually personal preference, so while it should be measured and taken into consideration lest we lose driving partners, it is not something we can plan for in advance.\n",
    "  \n",
    "## I would choose to measure per-driver profit as the metric to measure success in order to encourage driver partners to provide service to both cities.\n",
    "\n",
    "#### As driver partners are in the business primarily for their capacity to earn, demonstrating the personal reward for so doing. "
   ]
  },
  {
   "cell_type": "markdown",
   "id": "b4834b30",
   "metadata": {},
   "source": [
    "# 2) Describe a practical experiment you would design to compare the effectiveness of the proposed change in relation to the key measure of success. Please provide details on:\n",
    "## a) how you will implement the experiment\n",
    "## b) what statistical test(s) you will conduct to verify the significance of the observation\n",
    "## c) how you would interpret the results and provide recommendations to the city operations team along with any caveats."
   ]
  },
  {
   "cell_type": "markdown",
   "id": "ae973e70",
   "metadata": {},
   "source": [
    "### Step 1:  Gather Baseline Data\n",
    "#### These are the metrics to gather information as our baseline:\n",
    "- Take-home pay per driver\n",
    "- Number of hours worked\n",
    "- Times worked\n",
    "- Days worked\n",
    "- Driver satisfaction self-rating\n",
    "- Count of instances crossing between cities\n",
    "\n",
    "#### Tracking this data will also let us see who opts into the program according to a change in their  variables (e.g. Number of hours worked, Count of instances crossing between cities, Times worked, etc.)\n",
    "\n",
    "###### Ideally, we want enough data to account for holdiays, weather, and special events.  An estimated 6 full weeks of data at a minimum should be enough to offset outliers."
   ]
  },
  {
   "cell_type": "markdown",
   "id": "fc59e9e4",
   "metadata": {},
   "source": [
    "### Step 2:  Modeling\n",
    "#### Once we have enough data, we can use basic EDA (Exploratory Data Analysis) to map relationships between the variables:\n",
    "- A correlation heatmap would help reveal relationships between variables that might not be obvious\n",
    "- A pivot-style heatmap would be a more focused method to explore relationships between two specific variables\n",
    "- A heatmap and pairplot could be combined for a more simple visualization for these variables\n"
   ]
  },
  {
   "cell_type": "markdown",
   "id": "10c871a3",
   "metadata": {},
   "source": [
    "### Step 3  Predictions\n",
    "#### With this data, we can make a few educated guesses about what changes would effect which variables\n",
    "- Multiple Linear Regressions models (assuming the data IS linear-ish)\n",
    "- Random Forest Regression models (if the data is NOT linear)\n",
    "- A/B t-test testing would be helpful to show differences if drivers choose to or not to participate in serving both areas\n",
    "\n",
    "## If necessary, the results of these predictive models can be provided in the effort to encourage drivers (assuming the results prove favorable to their bottom line without significantly damaging their satisfaction rating)\n",
    "\n",
    "##### Metrics for satisfaction ratings changes should only be noteworthy when they change by more than 75% of a full step (e.g. \"8 - Great\" to \"7 -Good\")\n",
    "##### An acceptable p-value is generally considered to be below 0.05"
   ]
  },
  {
   "cell_type": "markdown",
   "id": "88dbc2d3",
   "metadata": {},
   "source": [
    "### Step 4  Testing the Change\n",
    "#### We need to run a sample of drivers to test the new change before it is implemented full-scale.\n",
    "- Conduct an experiment for at least one full month\n",
    "- Randomly select 10% of current driving force to begin the new test, comparing against the remaining 90% as the control group\n",
    "    -Once selected, determine what percentage of all drivers already cross the bridge to serve both cities.  If the sample group does not have a similar percentage rate (within one standard deviation), resample and test again.\n",
    "- A/B t-test testing would be helpful to show differences if drivers choose to or not to participate in serving both areas"
   ]
  },
  {
   "cell_type": "markdown",
   "id": "ad28c899",
   "metadata": {},
   "source": [
    "### Step 5  Gather Post-Change Data\n",
    "#### Reality doesn't always match the model (even awesome models like mine!), so we want to gather more data and see what it shows, updating the information provided to the drivers as soon as we can validate it.\n",
    "- We will also check whether other variables (e.g., hours worked, satisfaction) are affected, to track unintended consequences.  But, as with the baseline data gathering, at least six weeks of data gathering should help against seasonal issues."
   ]
  },
  {
   "cell_type": "markdown",
   "id": "6a8ee5e6",
   "metadata": {},
   "source": [
    "### Step 6: Interpretation and Recommendation\n",
    "\n",
    "#### If sample group of drivers shows a statistically significant increase in take-home pay, we will recommend making the change of driving for both cities a permanent policy."
   ]
  },
  {
   "cell_type": "markdown",
   "id": "a14af75f",
   "metadata": {},
   "source": [
    "#  Part 3 ‐ Predictive modeling"
   ]
  },
  {
   "cell_type": "code",
   "execution_count": 383,
   "id": "31cf44f5",
   "metadata": {},
   "outputs": [
    {
     "name": "stdout",
     "output_type": "stream",
     "text": [
      "             city  trips_in_first_30_days signup_date  avg_rating_of_driver  \\\n",
      "0  King's Landing                       4  2014-01-25                   4.7   \n",
      "1         Astapor                       0  2014-01-29                   5.0   \n",
      "2         Astapor                       3  2014-01-06                   4.3   \n",
      "3  King's Landing                       9  2014-01-10                   4.6   \n",
      "4      Winterfell                      14  2014-01-27                   4.4   \n",
      "\n",
      "   avg_surge last_trip_date    phone  surge_pct  ultimate_black_user  \\\n",
      "0       1.10     2014-06-17   iPhone       15.4                 True   \n",
      "1       1.00     2014-05-05  Android        0.0                False   \n",
      "2       1.00     2014-01-07   iPhone        0.0                False   \n",
      "3       1.14     2014-06-29   iPhone       20.0                 True   \n",
      "4       1.19     2014-03-15  Android       11.8                False   \n",
      "\n",
      "   weekday_pct  avg_dist  avg_rating_by_driver  \n",
      "0         46.2      3.67                   5.0  \n",
      "1         50.0      8.26                   5.0  \n",
      "2        100.0      0.77                   5.0  \n",
      "3         80.0      2.36                   4.9  \n",
      "4         82.4      3.13                   4.9  \n"
     ]
    }
   ],
   "source": [
    "df2 = pd.read_json('ultimate_data_challenge.json')\n",
    "print (df2.head())"
   ]
  },
  {
   "cell_type": "code",
   "execution_count": 384,
   "id": "42bded8a",
   "metadata": {},
   "outputs": [
    {
     "name": "stdout",
     "output_type": "stream",
     "text": [
      "<class 'pandas.core.frame.DataFrame'>\n",
      "RangeIndex: 50000 entries, 0 to 49999\n",
      "Data columns (total 12 columns):\n",
      " #   Column                  Non-Null Count  Dtype  \n",
      "---  ------                  --------------  -----  \n",
      " 0   city                    50000 non-null  object \n",
      " 1   trips_in_first_30_days  50000 non-null  int64  \n",
      " 2   signup_date             50000 non-null  object \n",
      " 3   avg_rating_of_driver    41878 non-null  float64\n",
      " 4   avg_surge               50000 non-null  float64\n",
      " 5   last_trip_date          50000 non-null  object \n",
      " 6   phone                   49604 non-null  object \n",
      " 7   surge_pct               50000 non-null  float64\n",
      " 8   ultimate_black_user     50000 non-null  bool   \n",
      " 9   weekday_pct             50000 non-null  float64\n",
      " 10  avg_dist                50000 non-null  float64\n",
      " 11  avg_rating_by_driver    49799 non-null  float64\n",
      "dtypes: bool(1), float64(6), int64(1), object(4)\n",
      "memory usage: 4.2+ MB\n",
      "None\n"
     ]
    }
   ],
   "source": [
    "print(df2.info())"
   ]
  },
  {
   "cell_type": "code",
   "execution_count": 385,
   "id": "510f8763",
   "metadata": {},
   "outputs": [
    {
     "name": "stdout",
     "output_type": "stream",
     "text": [
      "       trips_in_first_30_days  avg_rating_of_driver     avg_surge  \\\n",
      "count            50000.000000          41878.000000  50000.000000   \n",
      "mean                 2.278200              4.601559      1.074764   \n",
      "std                  3.792684              0.617338      0.222336   \n",
      "min                  0.000000              1.000000      1.000000   \n",
      "25%                  0.000000              4.300000      1.000000   \n",
      "50%                  1.000000              4.900000      1.000000   \n",
      "75%                  3.000000              5.000000      1.050000   \n",
      "max                125.000000              5.000000      8.000000   \n",
      "\n",
      "          surge_pct   weekday_pct      avg_dist  avg_rating_by_driver  \n",
      "count  50000.000000  50000.000000  50000.000000          49799.000000  \n",
      "mean       8.849536     60.926084      5.796827              4.778158  \n",
      "std       19.958811     37.081503      5.707357              0.446652  \n",
      "min        0.000000      0.000000      0.000000              1.000000  \n",
      "25%        0.000000     33.300000      2.420000              4.700000  \n",
      "50%        0.000000     66.700000      3.880000              5.000000  \n",
      "75%        8.600000    100.000000      6.940000              5.000000  \n",
      "max      100.000000    100.000000    160.960000              5.000000  \n"
     ]
    }
   ],
   "source": [
    "print(df2.describe())"
   ]
  },
  {
   "cell_type": "code",
   "execution_count": 386,
   "id": "89019f42",
   "metadata": {},
   "outputs": [
    {
     "data": {
      "text/plain": [
       "city                         0\n",
       "trips_in_first_30_days       0\n",
       "signup_date                  0\n",
       "avg_rating_of_driver      8122\n",
       "avg_surge                    0\n",
       "last_trip_date               0\n",
       "phone                      396\n",
       "surge_pct                    0\n",
       "ultimate_black_user          0\n",
       "weekday_pct                  0\n",
       "avg_dist                     0\n",
       "avg_rating_by_driver       201\n",
       "dtype: int64"
      ]
     },
     "execution_count": 386,
     "metadata": {},
     "output_type": "execute_result"
    }
   ],
   "source": [
    "df2.isnull().sum()"
   ]
  },
  {
   "cell_type": "markdown",
   "id": "30f499d4",
   "metadata": {},
   "source": [
    "###### \"rating_of_driver\", \"phone\", and \"avg_rating_by_driver\" are not important to this study, so the missing values from those will be filled with the median for each column, except for the phone number, which I will mark simply as 'Missing'.  \n",
    "\n",
    "##### At this point, there is no reason to try to determine why these items are missing.\n",
    "\n",
    "###### That said, since we already have those metrics, another study could easily be done tracking how those numbers change after implementing this update.  If, for example, the ratings go down universally despite everything else increasing, it could indicate an unexpected problem (drivers get really angry and sweaty crossing the bridge and serving both locations, which lowers ratings overall, for example)"
   ]
  },
  {
   "cell_type": "code",
   "execution_count": 387,
   "id": "43ad5fe7",
   "metadata": {},
   "outputs": [],
   "source": [
    "df2['avg_rating_of_driver'] = df2['avg_rating_of_driver'].fillna(df2['avg_rating_of_driver'].median())\n",
    "df2['avg_rating_by_driver'] = df2['avg_rating_by_driver'].fillna(df2['avg_rating_by_driver'].median())\n",
    "df2['phone'] = df2['phone'].fillna('Missing')"
   ]
  },
  {
   "cell_type": "code",
   "execution_count": 388,
   "id": "9a920cce",
   "metadata": {},
   "outputs": [
    {
     "data": {
      "text/plain": [
       "8"
      ]
     },
     "execution_count": 388,
     "metadata": {},
     "output_type": "execute_result"
    }
   ],
   "source": [
    "df2.duplicated().sum()"
   ]
  },
  {
   "cell_type": "code",
   "execution_count": 389,
   "id": "f6ac3f0e",
   "metadata": {},
   "outputs": [
    {
     "name": "stdout",
     "output_type": "stream",
     "text": [
      "             city  trips_in_first_30_days signup_date  avg_rating_of_driver  \\\n",
      "2608      Astapor                       1  2014-01-18                   5.0   \n",
      "18057     Astapor                       1  2014-01-11                   5.0   \n",
      "29601  Winterfell                       1  2014-01-01                   4.9   \n",
      "34641  Winterfell                       1  2014-01-18                   4.9   \n",
      "36627  Winterfell                       1  2014-01-18                   5.0   \n",
      "39601  Winterfell                       1  2014-01-10                   5.0   \n",
      "42025  Winterfell                       1  2014-01-18                   4.9   \n",
      "45416     Astapor                       1  2014-01-20                   5.0   \n",
      "\n",
      "       avg_surge last_trip_date    phone  surge_pct  ultimate_black_user  \\\n",
      "2608         1.0     2014-01-19   iPhone        0.0                 True   \n",
      "18057        1.0     2014-01-11   iPhone        0.0                 True   \n",
      "29601        1.0     2014-01-02  Android        0.0                False   \n",
      "34641        1.0     2014-01-19   iPhone        0.0                 True   \n",
      "36627        1.0     2014-01-19  Android        0.0                False   \n",
      "39601        1.0     2014-01-11  Android        0.0                False   \n",
      "42025        1.0     2014-01-19  Android        0.0                False   \n",
      "45416        1.0     2014-01-20   iPhone        0.0                False   \n",
      "\n",
      "       weekday_pct  avg_dist  avg_rating_by_driver  \n",
      "2608           0.0      6.25                   5.0  \n",
      "18057          0.0      2.33                   5.0  \n",
      "29601        100.0      8.08                   5.0  \n",
      "34641          0.0      1.44                   5.0  \n",
      "36627          0.0      3.54                   5.0  \n",
      "39601        100.0      0.00                   5.0  \n",
      "42025          0.0      0.01                   5.0  \n",
      "45416        100.0      3.06                   5.0  \n"
     ]
    }
   ],
   "source": [
    "print(df2[df2.duplicated()])"
   ]
  },
  {
   "cell_type": "markdown",
   "id": "4d0d8119",
   "metadata": {},
   "source": [
    "###### The data lacks a unique identifiers to properly determine if these entries are, indeed, duplicates, so they will be ignored and assumed as correct."
   ]
  },
  {
   "cell_type": "code",
   "execution_count": 390,
   "id": "b4e1aa11",
   "metadata": {},
   "outputs": [
    {
     "name": "stdout",
     "output_type": "stream",
     "text": [
      "city                       object\n",
      "trips_in_first_30_days      int64\n",
      "signup_date                object\n",
      "avg_rating_of_driver      float64\n",
      "avg_surge                 float64\n",
      "last_trip_date             object\n",
      "phone                      object\n",
      "surge_pct                 float64\n",
      "ultimate_black_user          bool\n",
      "weekday_pct               float64\n",
      "avg_dist                  float64\n",
      "avg_rating_by_driver      float64\n",
      "dtype: object\n"
     ]
    }
   ],
   "source": [
    "print(df2.dtypes)"
   ]
  },
  {
   "cell_type": "code",
   "execution_count": 391,
   "id": "91c419fd",
   "metadata": {},
   "outputs": [
    {
     "name": "stdout",
     "output_type": "stream",
     "text": [
      "[\"King's Landing\" 'Astapor' 'Winterfell']\n"
     ]
    }
   ],
   "source": [
    "print(df2['city'].unique())"
   ]
  },
  {
   "cell_type": "code",
   "execution_count": 392,
   "id": "f91e8134",
   "metadata": {},
   "outputs": [],
   "source": [
    "df2['city'] = df2['city'].astype('string')"
   ]
  },
  {
   "cell_type": "code",
   "execution_count": 393,
   "id": "233d0f9f",
   "metadata": {},
   "outputs": [
    {
     "name": "stdout",
     "output_type": "stream",
     "text": [
      "['2014-01-25' '2014-01-29' '2014-01-06' '2014-01-10' '2014-01-27'\n",
      " '2014-01-09' '2014-01-24' '2014-01-28' '2014-01-21' '2014-01-03'\n",
      " '2014-01-13' '2014-01-15' '2014-01-11' '2014-01-12' '2014-01-02'\n",
      " '2014-01-31' '2014-01-19' '2014-01-16' '2014-01-26' '2014-01-05'\n",
      " '2014-01-17' '2014-01-22' '2014-01-18' '2014-01-20' '2014-01-04'\n",
      " '2014-01-30' '2014-01-07' '2014-01-01' '2014-01-08' '2014-01-23'\n",
      " '2014-01-14']\n"
     ]
    }
   ],
   "source": [
    "print(df2['signup_date'].unique())"
   ]
  },
  {
   "cell_type": "code",
   "execution_count": 394,
   "id": "ee716058",
   "metadata": {},
   "outputs": [],
   "source": [
    "df2['signup_date'] = pd.to_datetime(df2['signup_date'], format='%Y-%m-%d')"
   ]
  },
  {
   "cell_type": "code",
   "execution_count": 395,
   "id": "0ea4bef4",
   "metadata": {},
   "outputs": [
    {
     "name": "stdout",
     "output_type": "stream",
     "text": [
      "['2014-06-17' '2014-05-05' '2014-01-07' '2014-06-29' '2014-03-15'\n",
      " '2014-06-06' '2014-01-25' '2014-01-29' '2014-02-01' '2014-01-05'\n",
      " '2014-05-30' '2014-01-10' '2014-03-12' '2014-06-08' '2014-01-28'\n",
      " '2014-01-16' '2014-06-28' '2014-07-01' '2014-06-24' '2014-06-03'\n",
      " '2014-03-16' '2014-04-29' '2014-05-02' '2014-06-13' '2014-05-18'\n",
      " '2014-01-03' '2014-01-22' '2014-03-05' '2014-02-27' '2014-02-07'\n",
      " '2014-06-14' '2014-06-10' '2014-02-28' '2014-01-17' '2014-02-21'\n",
      " '2014-06-25' '2014-04-26' '2014-06-30' '2014-06-23' '2014-05-10'\n",
      " '2014-01-26' '2014-03-17' '2014-06-18' '2014-04-19' '2014-01-19'\n",
      " '2014-06-19' '2014-02-15' '2014-06-01' '2014-05-16' '2014-06-15'\n",
      " '2014-03-10' '2014-04-20' '2014-03-29' '2014-02-02' '2014-05-09'\n",
      " '2014-05-04' '2014-03-19' '2014-04-23' '2014-01-01' '2014-01-08'\n",
      " '2014-04-27' '2014-01-30' '2014-02-03' '2014-05-03' '2014-02-05'\n",
      " '2014-06-20' '2014-04-28' '2014-05-25' '2014-02-09' '2014-06-26'\n",
      " '2014-06-27' '2014-05-28' '2014-01-18' '2014-01-23' '2014-01-11'\n",
      " '2014-06-02' '2014-06-22' '2014-04-06' '2014-04-14' '2014-06-11'\n",
      " '2014-04-09' '2014-04-17' '2014-01-12' '2014-05-23' '2014-04-03'\n",
      " '2014-06-05' '2014-03-27' '2014-05-31' '2014-06-21' '2014-03-28'\n",
      " '2014-05-21' '2014-06-16' '2014-05-24' '2014-04-10' '2014-01-27'\n",
      " '2014-01-04' '2014-02-22' '2014-01-31' '2014-03-14' '2014-01-15'\n",
      " '2014-03-18' '2014-02-25' '2014-05-06' '2014-01-14' '2014-05-17'\n",
      " '2014-03-02' '2014-03-03' '2014-05-20' '2014-05-12' '2014-05-27'\n",
      " '2014-05-14' '2014-02-10' '2014-01-24' '2014-02-16' '2014-03-31'\n",
      " '2014-05-22' '2014-01-06' '2014-06-12' '2014-04-30' '2014-03-26'\n",
      " '2014-04-16' '2014-05-26' '2014-01-09' '2014-04-24' '2014-05-19'\n",
      " '2014-05-11' '2014-03-06' '2014-01-13' '2014-04-01' '2014-06-09'\n",
      " '2014-01-20' '2014-02-18' '2014-06-04' '2014-04-02' '2014-03-23'\n",
      " '2014-04-11' '2014-03-24' '2014-04-04' '2014-06-07' '2014-03-20'\n",
      " '2014-03-25' '2014-02-06' '2014-02-08' '2014-03-07' '2014-01-02'\n",
      " '2014-02-20' '2014-03-30' '2014-03-21' '2014-04-12' '2014-04-07'\n",
      " '2014-04-05' '2014-04-18' '2014-03-09' '2014-02-23' '2014-02-12'\n",
      " '2014-02-11' '2014-05-01' '2014-05-15' '2014-03-22' '2014-02-17'\n",
      " '2014-01-21' '2014-03-01' '2014-04-25' '2014-04-15' '2014-05-08'\n",
      " '2014-04-13' '2014-02-26' '2014-03-13' '2014-02-19' '2014-05-29'\n",
      " '2014-04-08' '2014-04-21' '2014-03-11' '2014-02-14' '2014-05-07'\n",
      " '2014-02-24' '2014-02-04' '2014-04-22' '2014-03-08' '2014-02-13'\n",
      " '2014-03-04' '2014-05-13']\n"
     ]
    }
   ],
   "source": [
    "print(df2['last_trip_date'].unique())"
   ]
  },
  {
   "cell_type": "code",
   "execution_count": 396,
   "id": "08725d01",
   "metadata": {},
   "outputs": [],
   "source": [
    "df2['last_trip_date'] = pd.to_datetime(df2['last_trip_date'], format='%Y-%m-%d')"
   ]
  },
  {
   "cell_type": "code",
   "execution_count": 397,
   "id": "446d23ef",
   "metadata": {},
   "outputs": [
    {
     "name": "stdout",
     "output_type": "stream",
     "text": [
      "['iPhone' 'Android' 'Missing']\n"
     ]
    }
   ],
   "source": [
    "print(df2['phone'].unique())"
   ]
  },
  {
   "cell_type": "code",
   "execution_count": 398,
   "id": "ac43e987",
   "metadata": {},
   "outputs": [],
   "source": [
    "df2['phone'] = df2['phone'].astype('string')"
   ]
  },
  {
   "cell_type": "code",
   "execution_count": 399,
   "id": "dfa2ebe2",
   "metadata": {},
   "outputs": [
    {
     "name": "stdout",
     "output_type": "stream",
     "text": [
      "city                      string[python]\n",
      "trips_in_first_30_days             int64\n",
      "signup_date               datetime64[ns]\n",
      "avg_rating_of_driver             float64\n",
      "avg_surge                        float64\n",
      "last_trip_date            datetime64[ns]\n",
      "phone                     string[python]\n",
      "surge_pct                        float64\n",
      "ultimate_black_user                 bool\n",
      "weekday_pct                      float64\n",
      "avg_dist                         float64\n",
      "avg_rating_by_driver             float64\n",
      "dtype: object\n"
     ]
    }
   ],
   "source": [
    "print(df2.dtypes)"
   ]
  },
  {
   "cell_type": "markdown",
   "id": "05923296",
   "metadata": {},
   "source": [
    "##### No data type problems now, either, so the data should be much more usable."
   ]
  },
  {
   "cell_type": "code",
   "execution_count": 400,
   "id": "9a01db08",
   "metadata": {},
   "outputs": [
    {
     "data": {
      "text/plain": [
       "<Axes: ylabel='trips_in_first_30_days'>"
      ]
     },
     "execution_count": 400,
     "metadata": {},
     "output_type": "execute_result"
    },
    {
     "data": {
      "image/png": "[encoded data removed]",
      "text/plain": [
       "<Figure size 640x480 with 1 Axes>"
      ]
     },
     "metadata": {},
     "output_type": "display_data"
    }
   ],
   "source": [
    "sns.boxplot(y=df2['trips_in_first_30_days'])"
   ]
  },
  {
   "cell_type": "code",
   "execution_count": 401,
   "id": "d69cec08",
   "metadata": {},
   "outputs": [
    {
     "data": {
      "text/plain": [
       "<Axes: ylabel='avg_rating_of_driver'>"
      ]
     },
     "execution_count": 401,
     "metadata": {},
     "output_type": "execute_result"
    },
    {
     "data": {
      "image/png": "[encoded data removed]",
      "text/plain": [
       "<Figure size 640x480 with 1 Axes>"
      ]
     },
     "metadata": {},
     "output_type": "display_data"
    }
   ],
   "source": [
    "sns.boxplot(y=df2['avg_rating_of_driver'])"
   ]
  },
  {
   "cell_type": "code",
   "execution_count": 402,
   "id": "67f0e029",
   "metadata": {},
   "outputs": [
    {
     "data": {
      "text/plain": [
       "<Axes: xlabel='avg_surge'>"
      ]
     },
     "execution_count": 402,
     "metadata": {},
     "output_type": "execute_result"
    },
    {
     "data": {
      "image/png": "[encoded data removed]",
      "text/plain": [
       "<Figure size 640x480 with 1 Axes>"
      ]
     },
     "metadata": {},
     "output_type": "display_data"
    }
   ],
   "source": [
    "sns.boxplot(x=df2['avg_surge'])"
   ]
  },
  {
   "cell_type": "code",
   "execution_count": 403,
   "id": "09ea7d6c",
   "metadata": {},
   "outputs": [
    {
     "data": {
      "text/plain": [
       "<Axes: xlabel='surge_pct'>"
      ]
     },
     "execution_count": 403,
     "metadata": {},
     "output_type": "execute_result"
    },
    {
     "data": {
      "image/png": "[encoded data removed]",
      "text/plain": [
       "<Figure size 640x480 with 1 Axes>"
      ]
     },
     "metadata": {},
     "output_type": "display_data"
    }
   ],
   "source": [
    "sns.boxplot(x=df2['surge_pct'])"
   ]
  },
  {
   "cell_type": "code",
   "execution_count": 404,
   "id": "16661654",
   "metadata": {},
   "outputs": [
    {
     "data": {
      "text/plain": [
       "<Axes: title={'center': 'ultimate_black_user'}, xlabel='ultimate_black_user'>"
      ]
     },
     "execution_count": 404,
     "metadata": {},
     "output_type": "execute_result"
    },
    {
     "data": {
      "image/png": "[encoded data removed]",
      "text/plain": [
       "<Figure size 640x480 with 1 Axes>"
      ]
     },
     "metadata": {},
     "output_type": "display_data"
    }
   ],
   "source": [
    "df2['ultimate_black_user'].value_counts().plot(kind='bar', title='ultimate_black_user')"
   ]
  },
  {
   "cell_type": "code",
   "execution_count": 405,
   "id": "f89552bc",
   "metadata": {},
   "outputs": [
    {
     "name": "stdout",
     "output_type": "stream",
     "text": [
      "ultimate_black_user\n",
      "False    31146\n",
      "True     18854\n",
      "Name: count, dtype: int64\n"
     ]
    }
   ],
   "source": [
    "print(df2['ultimate_black_user'].value_counts())"
   ]
  },
  {
   "cell_type": "code",
   "execution_count": 406,
   "id": "84010ca2",
   "metadata": {},
   "outputs": [
    {
     "data": {
      "text/plain": [
       "<Axes: xlabel='weekday_pct'>"
      ]
     },
     "execution_count": 406,
     "metadata": {},
     "output_type": "execute_result"
    },
    {
     "data": {
      "image/png": "[encoded data removed]",
      "text/plain": [
       "<Figure size 640x480 with 1 Axes>"
      ]
     },
     "metadata": {},
     "output_type": "display_data"
    }
   ],
   "source": [
    "sns.boxplot(x=df2['weekday_pct'])"
   ]
  },
  {
   "cell_type": "code",
   "execution_count": 407,
   "id": "f94c17b5",
   "metadata": {},
   "outputs": [
    {
     "data": {
      "text/plain": [
       "<Axes: xlabel='avg_dist'>"
      ]
     },
     "execution_count": 407,
     "metadata": {},
     "output_type": "execute_result"
    },
    {
     "data": {
      "image/png": "[encoded data removed]",
      "text/plain": [
       "<Figure size 640x480 with 1 Axes>"
      ]
     },
     "metadata": {},
     "output_type": "display_data"
    }
   ],
   "source": [
    "sns.boxplot(x=df2['avg_dist'])"
   ]
  },
  {
   "cell_type": "code",
   "execution_count": 408,
   "id": "6cc1e8fc",
   "metadata": {},
   "outputs": [
    {
     "data": {
      "text/plain": [
       "<Axes: xlabel='avg_rating_by_driver'>"
      ]
     },
     "execution_count": 408,
     "metadata": {},
     "output_type": "execute_result"
    },
    {
     "data": {
      "image/png": "[encoded data removed]",
      "text/plain": [
       "<Figure size 640x480 with 1 Axes>"
      ]
     },
     "metadata": {},
     "output_type": "display_data"
    }
   ],
   "source": [
    "sns.boxplot(x=df2['avg_rating_by_driver'])"
   ]
  },
  {
   "cell_type": "markdown",
   "id": "22db2e65",
   "metadata": {},
   "source": [
    "##### There are lots of outliers on many of the numeric datasets, but nothing seems too extraordinary."
   ]
  },
  {
   "cell_type": "code",
   "execution_count": 409,
   "id": "3e0a3e0d",
   "metadata": {},
   "outputs": [
    {
     "name": "stdout",
     "output_type": "stream",
     "text": [
      "<class 'pandas.core.frame.DataFrame'>\n",
      "RangeIndex: 50000 entries, 0 to 49999\n",
      "Data columns (total 12 columns):\n",
      " #   Column                  Non-Null Count  Dtype         \n",
      "---  ------                  --------------  -----         \n",
      " 0   city                    50000 non-null  string        \n",
      " 1   trips_in_first_30_days  50000 non-null  int64         \n",
      " 2   signup_date             50000 non-null  datetime64[ns]\n",
      " 3   avg_rating_of_driver    50000 non-null  float64       \n",
      " 4   avg_surge               50000 non-null  float64       \n",
      " 5   last_trip_date          50000 non-null  datetime64[ns]\n",
      " 6   phone                   50000 non-null  string        \n",
      " 7   surge_pct               50000 non-null  float64       \n",
      " 8   ultimate_black_user     50000 non-null  bool          \n",
      " 9   weekday_pct             50000 non-null  float64       \n",
      " 10  avg_dist                50000 non-null  float64       \n",
      " 11  avg_rating_by_driver    50000 non-null  float64       \n",
      "dtypes: bool(1), datetime64[ns](2), float64(6), int64(1), string(2)\n",
      "memory usage: 4.2 MB\n",
      "None\n"
     ]
    }
   ],
   "source": [
    "print(df2.info())"
   ]
  },
  {
   "cell_type": "code",
   "execution_count": 410,
   "id": "d0e7fa53",
   "metadata": {},
   "outputs": [],
   "source": [
    "#I'm assuming the last_date is a safe way to determine the starting point for the most recent 30 days retention calculations\n",
    "last_date = df2['last_trip_date'].max()\n",
    "df2['retained'] = df2['last_trip_date'] >= (last_date - pd.Timedelta(days=30))"
   ]
  },
  {
   "cell_type": "code",
   "execution_count": 411,
   "id": "036c4a25",
   "metadata": {},
   "outputs": [
    {
     "name": "stdout",
     "output_type": "stream",
     "text": [
      "retained\n",
      "False    31196\n",
      "True     18804\n",
      "Name: count, dtype: int64\n"
     ]
    }
   ],
   "source": [
    "print(df2['retained'].value_counts())"
   ]
  },
  {
   "cell_type": "code",
   "execution_count": 412,
   "id": "621e6e1e",
   "metadata": {},
   "outputs": [
    {
     "data": {
      "text/plain": [
       "<Axes: title={'center': 'Retention'}, xlabel='retained'>"
      ]
     },
     "execution_count": 412,
     "metadata": {},
     "output_type": "execute_result"
    },
    {
     "data": {
      "image/png": "[encoded data removed]",
      "text/plain": [
       "<Figure size 640x480 with 1 Axes>"
      ]
     },
     "metadata": {},
     "output_type": "display_data"
    }
   ],
   "source": [
    "df2['retained'].value_counts().plot(kind='bar', title='Retention')"
   ]
  },
  {
   "cell_type": "markdown",
   "id": "f8938f11",
   "metadata": {},
   "source": [
    "### I'm going to see if I can find good predictors of retention"
   ]
  },
  {
   "cell_type": "code",
   "execution_count": 413,
   "id": "ec0a8384",
   "metadata": {},
   "outputs": [
    {
     "name": "stdout",
     "output_type": "stream",
     "text": [
      "<class 'pandas.core.frame.DataFrame'>\n",
      "RangeIndex: 50000 entries, 0 to 49999\n",
      "Data columns (total 13 columns):\n",
      " #   Column                  Non-Null Count  Dtype         \n",
      "---  ------                  --------------  -----         \n",
      " 0   city                    50000 non-null  string        \n",
      " 1   trips_in_first_30_days  50000 non-null  int64         \n",
      " 2   signup_date             50000 non-null  datetime64[ns]\n",
      " 3   avg_rating_of_driver    50000 non-null  float64       \n",
      " 4   avg_surge               50000 non-null  float64       \n",
      " 5   last_trip_date          50000 non-null  datetime64[ns]\n",
      " 6   phone                   50000 non-null  string        \n",
      " 7   surge_pct               50000 non-null  float64       \n",
      " 8   ultimate_black_user     50000 non-null  bool          \n",
      " 9   weekday_pct             50000 non-null  float64       \n",
      " 10  avg_dist                50000 non-null  float64       \n",
      " 11  avg_rating_by_driver    50000 non-null  float64       \n",
      " 12  retained                50000 non-null  bool          \n",
      "dtypes: bool(2), datetime64[ns](2), float64(6), int64(1), string(2)\n",
      "memory usage: 4.3 MB\n",
      "None\n"
     ]
    }
   ],
   "source": [
    "print(df2.info())"
   ]
  },
  {
   "cell_type": "markdown",
   "id": "664ff67a",
   "metadata": {},
   "source": [
    "##### I generally prefer to start with a baseline regression, a simple logistic model to get perspective in case there are linear relationships not initially obvious.  After that, a random forest model is a quick way to see how different elements contribute to \n",
    "\n",
    "##### Decision trees are an option, especially because they're good with non-linear relationships, but there are a lot of variations in the data, which decision trees don't resolve well.  A Support Vector Machine might also be a possibility, but I don't want to tune the data too much, given there are a lot of variables that might be contributing factors."
   ]
  },
  {
   "cell_type": "code",
   "execution_count": 414,
   "id": "41a6450b",
   "metadata": {},
   "outputs": [],
   "source": [
    "#Beginning with the end in mind\n",
    "y = df2['retained']"
   ]
  },
  {
   "cell_type": "code",
   "execution_count": 415,
   "id": "6a6451ad",
   "metadata": {},
   "outputs": [],
   "source": [
    "#We'll start with everything except the dates, as those are unlikely to have any helpful influence\n",
    "X = df2.drop(columns=['retained', 'signup_date', 'last_trip_date']) "
   ]
  },
  {
   "cell_type": "code",
   "execution_count": 416,
   "id": "778b5846",
   "metadata": {},
   "outputs": [],
   "source": [
    "#Splitting by type to make it easier to analyze\n",
    "numeric_features = X.select_dtypes(include=['int64', 'float64']).columns.tolist()\n",
    "categorical_features = X.select_dtypes(include=['string', 'bool']).columns.tolist()"
   ]
  },
  {
   "cell_type": "code",
   "execution_count": 417,
   "id": "f71524f3",
   "metadata": {},
   "outputs": [],
   "source": [
    "preprocessor = ColumnTransformer([\n",
    "    ('num', StandardScaler(), numeric_features),\n",
    "    ('cat', OneHotEncoder(drop='first'), categorical_features)\n",
    "])\n",
    "\n",
    "model = Pipeline(steps=[\n",
    "    ('preprocessor', preprocessor),\n",
    "    ('classifier', LogisticRegression(max_iter=1000))\n",
    "])"
   ]
  },
  {
   "cell_type": "code",
   "execution_count": 418,
   "id": "bdd64ac0",
   "metadata": {
    "scrolled": true
   },
   "outputs": [
    {
     "data": {
      "text/html": [
       "<style>#sk-container-id-13 {\n",
       "  /* Definition of color scheme common for light and dark mode */\n",
       "  --sklearn-color-text: black;\n",
       "  --sklearn-color-line: gray;\n",
       "  /* Definition of color scheme for unfitted estimators */\n",
       "  --sklearn-color-unfitted-level-0: #fff5e6;\n",
       "  --sklearn-color-unfitted-level-1: #f6e4d2;\n",
       "  --sklearn-color-unfitted-level-2: #ffe0b3;\n",
       "  --sklearn-color-unfitted-level-3: chocolate;\n",
       "  /* Definition of color scheme for fitted estimators */\n",
       "  --sklearn-color-fitted-level-0: #f0f8ff;\n",
       "  --sklearn-color-fitted-level-1: #d4ebff;\n",
       "  --sklearn-color-fitted-level-2: #b3dbfd;\n",
       "  --sklearn-color-fitted-level-3: cornflowerblue;\n",
       "\n",
       "  /* Specific color for light theme */\n",
       "  --sklearn-color-text-on-default-background: var(--sg-text-color, var(--theme-code-foreground, var(--jp-content-font-color1, black)));\n",
       "  --sklearn-color-background: var(--sg-background-color, var(--theme-background, var(--jp-layout-color0, white)));\n",
       "  --sklearn-color-border-box: var(--sg-text-color, var(--theme-code-foreground, var(--jp-content-font-color1, black)));\n",
       "  --sklearn-color-icon: #696969;\n",
       "\n",
       "  @media (prefers-color-scheme: dark) {\n",
       "    /* Redefinition of color scheme for dark theme */\n",
       "    --sklearn-color-text-on-default-background: var(--sg-text-color, var(--theme-code-foreground, var(--jp-content-font-color1, white)));\n",
       "    --sklearn-color-background: var(--sg-background-color, var(--theme-background, var(--jp-layout-color0, #111)));\n",
       "    --sklearn-color-border-box: var(--sg-text-color, var(--theme-code-foreground, var(--jp-content-font-color1, white)));\n",
       "    --sklearn-color-icon: #878787;\n",
       "  }\n",
       "}\n",
       "\n",
       "#sk-container-id-13 {\n",
       "  color: var(--sklearn-color-text);\n",
       "}\n",
       "\n",
       "#sk-container-id-13 pre {\n",
       "  padding: 0;\n",
       "}\n",
       "\n",
       "#sk-container-id-13 input.sk-hidden--visually {\n",
       "  border: 0;\n",
       "  clip: rect(1px 1px 1px 1px);\n",
       "  clip: rect(1px, 1px, 1px, 1px);\n",
       "  height: 1px;\n",
       "  margin: -1px;\n",
       "  overflow: hidden;\n",
       "  padding: 0;\n",
       "  position: absolute;\n",
       "  width: 1px;\n",
       "}\n",
       "\n",
       "#sk-container-id-13 div.sk-dashed-wrapped {\n",
       "  border: 1px dashed var(--sklearn-color-line);\n",
       "  margin: 0 0.4em 0.5em 0.4em;\n",
       "  box-sizing: border-box;\n",
       "  padding-bottom: 0.4em;\n",
       "  background-color: var(--sklearn-color-background);\n",
       "}\n",
       "\n",
       "#sk-container-id-13 div.sk-container {\n",
       "  /* jupyter's `normalize.less` sets `[hidden] { display: none; }`\n",
       "     but bootstrap.min.css set `[hidden] { display: none !important; }`\n",
       "     so we also need the `!important` here to be able to override the\n",
       "     default hidden behavior on the sphinx rendered scikit-learn.org.\n",
       "     See: https://github.com/scikit-learn/scikit-learn/issues/21755 */\n",
       "  display: inline-block !important;\n",
       "  position: relative;\n",
       "}\n",
       "\n",
       "#sk-container-id-13 div.sk-text-repr-fallback {\n",
       "  display: none;\n",
       "}\n",
       "\n",
       "div.sk-parallel-item,\n",
       "div.sk-serial,\n",
       "div.sk-item {\n",
       "  /* draw centered vertical line to link estimators */\n",
       "  background-image: linear-gradient(var(--sklearn-color-text-on-default-background), var(--sklearn-color-text-on-default-background));\n",
       "  background-size: 2px 100%;\n",
       "  background-repeat: no-repeat;\n",
       "  background-position: center center;\n",
       "}\n",
       "\n",
       "/* Parallel-specific style estimator block */\n",
       "\n",
       "#sk-container-id-13 div.sk-parallel-item::after {\n",
       "  content: \"\";\n",
       "  width: 100%;\n",
       "  border-bottom: 2px solid var(--sklearn-color-text-on-default-background);\n",
       "  flex-grow: 1;\n",
       "}\n",
       "\n",
       "#sk-container-id-13 div.sk-parallel {\n",
       "  display: flex;\n",
       "  align-items: stretch;\n",
       "  justify-content: center;\n",
       "  background-color: var(--sklearn-color-background);\n",
       "  position: relative;\n",
       "}\n",
       "\n",
       "#sk-container-id-13 div.sk-parallel-item {\n",
       "  display: flex;\n",
       "  flex-direction: column;\n",
       "}\n",
       "\n",
       "#sk-container-id-13 div.sk-parallel-item:first-child::after {\n",
       "  align-self: flex-end;\n",
       "  width: 50%;\n",
       "}\n",
       "\n",
       "#sk-container-id-13 div.sk-parallel-item:last-child::after {\n",
       "  align-self: flex-start;\n",
       "  width: 50%;\n",
       "}\n",
       "\n",
       "#sk-container-id-13 div.sk-parallel-item:only-child::after {\n",
       "  width: 0;\n",
       "}\n",
       "\n",
       "/* Serial-specific style estimator block */\n",
       "\n",
       "#sk-container-id-13 div.sk-serial {\n",
       "  display: flex;\n",
       "  flex-direction: column;\n",
       "  align-items: center;\n",
       "  background-color: var(--sklearn-color-background);\n",
       "  padding-right: 1em;\n",
       "  padding-left: 1em;\n",
       "}\n",
       "\n",
       "\n",
       "/* Toggleable style: style used for estimator/Pipeline/ColumnTransformer box that is\n",
       "clickable and can be expanded/collapsed.\n",
       "- Pipeline and ColumnTransformer use this feature and define the default style\n",
       "- Estimators will overwrite some part of the style using the `sk-estimator` class\n",
       "*/\n",
       "\n",
       "/* Pipeline and ColumnTransformer style (default) */\n",
       "\n",
       "#sk-container-id-13 div.sk-toggleable {\n",
       "  /* Default theme specific background. It is overwritten whether we have a\n",
       "  specific estimator or a Pipeline/ColumnTransformer */\n",
       "  background-color: var(--sklearn-color-background);\n",
       "}\n",
       "\n",
       "/* Toggleable label */\n",
       "#sk-container-id-13 label.sk-toggleable__label {\n",
       "  cursor: pointer;\n",
       "  display: block;\n",
       "  width: 100%;\n",
       "  margin-bottom: 0;\n",
       "  padding: 0.5em;\n",
       "  box-sizing: border-box;\n",
       "  text-align: center;\n",
       "}\n",
       "\n",
       "#sk-container-id-13 label.sk-toggleable__label-arrow:before {\n",
       "  /* Arrow on the left of the label */\n",
       "  content: \"▸\";\n",
       "  float: left;\n",
       "  margin-right: 0.25em;\n",
       "  color: var(--sklearn-color-icon);\n",
       "}\n",
       "\n",
       "#sk-container-id-13 label.sk-toggleable__label-arrow:hover:before {\n",
       "  color: var(--sklearn-color-text);\n",
       "}\n",
       "\n",
       "/* Toggleable content - dropdown */\n",
       "\n",
       "#sk-container-id-13 div.sk-toggleable__content {\n",
       "  max-height: 0;\n",
       "  max-width: 0;\n",
       "  overflow: hidden;\n",
       "  text-align: left;\n",
       "  /* unfitted */\n",
       "  background-color: var(--sklearn-color-unfitted-level-0);\n",
       "}\n",
       "\n",
       "#sk-container-id-13 div.sk-toggleable__content.fitted {\n",
       "  /* fitted */\n",
       "  background-color: var(--sklearn-color-fitted-level-0);\n",
       "}\n",
       "\n",
       "#sk-container-id-13 div.sk-toggleable__content pre {\n",
       "  margin: 0.2em;\n",
       "  border-radius: 0.25em;\n",
       "  color: var(--sklearn-color-text);\n",
       "  /* unfitted */\n",
       "  background-color: var(--sklearn-color-unfitted-level-0);\n",
       "}\n",
       "\n",
       "#sk-container-id-13 div.sk-toggleable__content.fitted pre {\n",
       "  /* unfitted */\n",
       "  background-color: var(--sklearn-color-fitted-level-0);\n",
       "}\n",
       "\n",
       "#sk-container-id-13 input.sk-toggleable__control:checked~div.sk-toggleable__content {\n",
       "  /* Expand drop-down */\n",
       "  max-height: 200px;\n",
       "  max-width: 100%;\n",
       "  overflow: auto;\n",
       "}\n",
       "\n",
       "#sk-container-id-13 input.sk-toggleable__control:checked~label.sk-toggleable__label-arrow:before {\n",
       "  content: \"▾\";\n",
       "}\n",
       "\n",
       "/* Pipeline/ColumnTransformer-specific style */\n",
       "\n",
       "#sk-container-id-13 div.sk-label input.sk-toggleable__control:checked~label.sk-toggleable__label {\n",
       "  color: var(--sklearn-color-text);\n",
       "  background-color: var(--sklearn-color-unfitted-level-2);\n",
       "}\n",
       "\n",
       "#sk-container-id-13 div.sk-label.fitted input.sk-toggleable__control:checked~label.sk-toggleable__label {\n",
       "  background-color: var(--sklearn-color-fitted-level-2);\n",
       "}\n",
       "\n",
       "/* Estimator-specific style */\n",
       "\n",
       "/* Colorize estimator box */\n",
       "#sk-container-id-13 div.sk-estimator input.sk-toggleable__control:checked~label.sk-toggleable__label {\n",
       "  /* unfitted */\n",
       "  background-color: var(--sklearn-color-unfitted-level-2);\n",
       "}\n",
       "\n",
       "#sk-container-id-13 div.sk-estimator.fitted input.sk-toggleable__control:checked~label.sk-toggleable__label {\n",
       "  /* fitted */\n",
       "  background-color: var(--sklearn-color-fitted-level-2);\n",
       "}\n",
       "\n",
       "#sk-container-id-13 div.sk-label label.sk-toggleable__label,\n",
       "#sk-container-id-13 div.sk-label label {\n",
       "  /* The background is the default theme color */\n",
       "  color: var(--sklearn-color-text-on-default-background);\n",
       "}\n",
       "\n",
       "/* On hover, darken the color of the background */\n",
       "#sk-container-id-13 div.sk-label:hover label.sk-toggleable__label {\n",
       "  color: var(--sklearn-color-text);\n",
       "  background-color: var(--sklearn-color-unfitted-level-2);\n",
       "}\n",
       "\n",
       "/* Label box, darken color on hover, fitted */\n",
       "#sk-container-id-13 div.sk-label.fitted:hover label.sk-toggleable__label.fitted {\n",
       "  color: var(--sklearn-color-text);\n",
       "  background-color: var(--sklearn-color-fitted-level-2);\n",
       "}\n",
       "\n",
       "/* Estimator label */\n",
       "\n",
       "#sk-container-id-13 div.sk-label label {\n",
       "  font-family: monospace;\n",
       "  font-weight: bold;\n",
       "  display: inline-block;\n",
       "  line-height: 1.2em;\n",
       "}\n",
       "\n",
       "#sk-container-id-13 div.sk-label-container {\n",
       "  text-align: center;\n",
       "}\n",
       "\n",
       "/* Estimator-specific */\n",
       "#sk-container-id-13 div.sk-estimator {\n",
       "  font-family: monospace;\n",
       "  border: 1px dotted var(--sklearn-color-border-box);\n",
       "  border-radius: 0.25em;\n",
       "  box-sizing: border-box;\n",
       "  margin-bottom: 0.5em;\n",
       "  /* unfitted */\n",
       "  background-color: var(--sklearn-color-unfitted-level-0);\n",
       "}\n",
       "\n",
       "#sk-container-id-13 div.sk-estimator.fitted {\n",
       "  /* fitted */\n",
       "  background-color: var(--sklearn-color-fitted-level-0);\n",
       "}\n",
       "\n",
       "/* on hover */\n",
       "#sk-container-id-13 div.sk-estimator:hover {\n",
       "  /* unfitted */\n",
       "  background-color: var(--sklearn-color-unfitted-level-2);\n",
       "}\n",
       "\n",
       "#sk-container-id-13 div.sk-estimator.fitted:hover {\n",
       "  /* fitted */\n",
       "  background-color: var(--sklearn-color-fitted-level-2);\n",
       "}\n",
       "\n",
       "/* Specification for estimator info (e.g. \"i\" and \"?\") */\n",
       "\n",
       "/* Common style for \"i\" and \"?\" */\n",
       "\n",
       ".sk-estimator-doc-link,\n",
       "a:link.sk-estimator-doc-link,\n",
       "a:visited.sk-estimator-doc-link {\n",
       "  float: right;\n",
       "  font-size: smaller;\n",
       "  line-height: 1em;\n",
       "  font-family: monospace;\n",
       "  background-color: var(--sklearn-color-background);\n",
       "  border-radius: 1em;\n",
       "  height: 1em;\n",
       "  width: 1em;\n",
       "  text-decoration: none !important;\n",
       "  margin-left: 1ex;\n",
       "  /* unfitted */\n",
       "  border: var(--sklearn-color-unfitted-level-1) 1pt solid;\n",
       "  color: var(--sklearn-color-unfitted-level-1);\n",
       "}\n",
       "\n",
       ".sk-estimator-doc-link.fitted,\n",
       "a:link.sk-estimator-doc-link.fitted,\n",
       "a:visited.sk-estimator-doc-link.fitted {\n",
       "  /* fitted */\n",
       "  border: var(--sklearn-color-fitted-level-1) 1pt solid;\n",
       "  color: var(--sklearn-color-fitted-level-1);\n",
       "}\n",
       "\n",
       "/* On hover */\n",
       "div.sk-estimator:hover .sk-estimator-doc-link:hover,\n",
       ".sk-estimator-doc-link:hover,\n",
       "div.sk-label-container:hover .sk-estimator-doc-link:hover,\n",
       ".sk-estimator-doc-link:hover {\n",
       "  /* unfitted */\n",
       "  background-color: var(--sklearn-color-unfitted-level-3);\n",
       "  color: var(--sklearn-color-background);\n",
       "  text-decoration: none;\n",
       "}\n",
       "\n",
       "div.sk-estimator.fitted:hover .sk-estimator-doc-link.fitted:hover,\n",
       ".sk-estimator-doc-link.fitted:hover,\n",
       "div.sk-label-container:hover .sk-estimator-doc-link.fitted:hover,\n",
       ".sk-estimator-doc-link.fitted:hover {\n",
       "  /* fitted */\n",
       "  background-color: var(--sklearn-color-fitted-level-3);\n",
       "  color: var(--sklearn-color-background);\n",
       "  text-decoration: none;\n",
       "}\n",
       "\n",
       "/* Span, style for the box shown on hovering the info icon */\n",
       ".sk-estimator-doc-link span {\n",
       "  display: none;\n",
       "  z-index: 9999;\n",
       "  position: relative;\n",
       "  font-weight: normal;\n",
       "  right: .2ex;\n",
       "  padding: .5ex;\n",
       "  margin: .5ex;\n",
       "  width: min-content;\n",
       "  min-width: 20ex;\n",
       "  max-width: 50ex;\n",
       "  color: var(--sklearn-color-text);\n",
       "  box-shadow: 2pt 2pt 4pt #999;\n",
       "  /* unfitted */\n",
       "  background: var(--sklearn-color-unfitted-level-0);\n",
       "  border: .5pt solid var(--sklearn-color-unfitted-level-3);\n",
       "}\n",
       "\n",
       ".sk-estimator-doc-link.fitted span {\n",
       "  /* fitted */\n",
       "  background: var(--sklearn-color-fitted-level-0);\n",
       "  border: var(--sklearn-color-fitted-level-3);\n",
       "}\n",
       "\n",
       ".sk-estimator-doc-link:hover span {\n",
       "  display: block;\n",
       "}\n",
       "\n",
       "/* \"?\"-specific style due to the `<a>` HTML tag */\n",
       "\n",
       "#sk-container-id-13 a.estimator_doc_link {\n",
       "  float: right;\n",
       "  font-size: 1rem;\n",
       "  line-height: 1em;\n",
       "  font-family: monospace;\n",
       "  background-color: var(--sklearn-color-background);\n",
       "  border-radius: 1rem;\n",
       "  height: 1rem;\n",
       "  width: 1rem;\n",
       "  text-decoration: none;\n",
       "  /* unfitted */\n",
       "  color: var(--sklearn-color-unfitted-level-1);\n",
       "  border: var(--sklearn-color-unfitted-level-1) 1pt solid;\n",
       "}\n",
       "\n",
       "#sk-container-id-13 a.estimator_doc_link.fitted {\n",
       "  /* fitted */\n",
       "  border: var(--sklearn-color-fitted-level-1) 1pt solid;\n",
       "  color: var(--sklearn-color-fitted-level-1);\n",
       "}\n",
       "\n",
       "/* On hover */\n",
       "#sk-container-id-13 a.estimator_doc_link:hover {\n",
       "  /* unfitted */\n",
       "  background-color: var(--sklearn-color-unfitted-level-3);\n",
       "  color: var(--sklearn-color-background);\n",
       "  text-decoration: none;\n",
       "}\n",
       "\n",
       "#sk-container-id-13 a.estimator_doc_link.fitted:hover {\n",
       "  /* fitted */\n",
       "  background-color: var(--sklearn-color-fitted-level-3);\n",
       "}\n",
       "</style><div id=\"sk-container-id-13\" class=\"sk-top-container\"><div class=\"sk-text-repr-fallback\"><pre>Pipeline(steps=[(&#x27;preprocessor&#x27;,\n",
       "                 ColumnTransformer(transformers=[(&#x27;num&#x27;, StandardScaler(),\n",
       "                                                  [&#x27;trips_in_first_30_days&#x27;,\n",
       "                                                   &#x27;avg_rating_of_driver&#x27;,\n",
       "                                                   &#x27;avg_surge&#x27;, &#x27;surge_pct&#x27;,\n",
       "                                                   &#x27;weekday_pct&#x27;, &#x27;avg_dist&#x27;,\n",
       "                                                   &#x27;avg_rating_by_driver&#x27;]),\n",
       "                                                 (&#x27;cat&#x27;,\n",
       "                                                  OneHotEncoder(drop=&#x27;first&#x27;),\n",
       "                                                  [&#x27;city&#x27;, &#x27;phone&#x27;,\n",
       "                                                   &#x27;ultimate_black_user&#x27;])])),\n",
       "                (&#x27;classifier&#x27;, LogisticRegression(max_iter=1000))])</pre><b>In a Jupyter environment, please rerun this cell to show the HTML representation or trust the notebook. <br />On GitHub, the HTML representation is unable to render, please try loading this page with nbviewer.org.</b></div><div class=\"sk-container\" hidden><div class=\"sk-item sk-dashed-wrapped\"><div class=\"sk-label-container\"><div class=\"sk-label fitted sk-toggleable\"><input class=\"sk-toggleable__control sk-hidden--visually\" id=\"sk-estimator-id-61\" type=\"checkbox\" ><label for=\"sk-estimator-id-61\" class=\"sk-toggleable__label fitted sk-toggleable__label-arrow fitted\">&nbsp;&nbsp;Pipeline<a class=\"sk-estimator-doc-link fitted\" rel=\"noreferrer\" target=\"_blank\" href=\"https://scikit-learn.org/1.4/modules/generated/sklearn.pipeline.Pipeline.html\">?<span>Documentation for Pipeline</span></a><span class=\"sk-estimator-doc-link fitted\">i<span>Fitted</span></span></label><div class=\"sk-toggleable__content fitted\"><pre>Pipeline(steps=[(&#x27;preprocessor&#x27;,\n",
       "                 ColumnTransformer(transformers=[(&#x27;num&#x27;, StandardScaler(),\n",
       "                                                  [&#x27;trips_in_first_30_days&#x27;,\n",
       "                                                   &#x27;avg_rating_of_driver&#x27;,\n",
       "                                                   &#x27;avg_surge&#x27;, &#x27;surge_pct&#x27;,\n",
       "                                                   &#x27;weekday_pct&#x27;, &#x27;avg_dist&#x27;,\n",
       "                                                   &#x27;avg_rating_by_driver&#x27;]),\n",
       "                                                 (&#x27;cat&#x27;,\n",
       "                                                  OneHotEncoder(drop=&#x27;first&#x27;),\n",
       "                                                  [&#x27;city&#x27;, &#x27;phone&#x27;,\n",
       "                                                   &#x27;ultimate_black_user&#x27;])])),\n",
       "                (&#x27;classifier&#x27;, LogisticRegression(max_iter=1000))])</pre></div> </div></div><div class=\"sk-serial\"><div class=\"sk-item sk-dashed-wrapped\"><div class=\"sk-label-container\"><div class=\"sk-label fitted sk-toggleable\"><input class=\"sk-toggleable__control sk-hidden--visually\" id=\"sk-estimator-id-62\" type=\"checkbox\" ><label for=\"sk-estimator-id-62\" class=\"sk-toggleable__label fitted sk-toggleable__label-arrow fitted\">&nbsp;preprocessor: ColumnTransformer<a class=\"sk-estimator-doc-link fitted\" rel=\"noreferrer\" target=\"_blank\" href=\"https://scikit-learn.org/1.4/modules/generated/sklearn.compose.ColumnTransformer.html\">?<span>Documentation for preprocessor: ColumnTransformer</span></a></label><div class=\"sk-toggleable__content fitted\"><pre>ColumnTransformer(transformers=[(&#x27;num&#x27;, StandardScaler(),\n",
       "                                 [&#x27;trips_in_first_30_days&#x27;,\n",
       "                                  &#x27;avg_rating_of_driver&#x27;, &#x27;avg_surge&#x27;,\n",
       "                                  &#x27;surge_pct&#x27;, &#x27;weekday_pct&#x27;, &#x27;avg_dist&#x27;,\n",
       "                                  &#x27;avg_rating_by_driver&#x27;]),\n",
       "                                (&#x27;cat&#x27;, OneHotEncoder(drop=&#x27;first&#x27;),\n",
       "                                 [&#x27;city&#x27;, &#x27;phone&#x27;, &#x27;ultimate_black_user&#x27;])])</pre></div> </div></div><div class=\"sk-parallel\"><div class=\"sk-parallel-item\"><div class=\"sk-item\"><div class=\"sk-label-container\"><div class=\"sk-label fitted sk-toggleable\"><input class=\"sk-toggleable__control sk-hidden--visually\" id=\"sk-estimator-id-63\" type=\"checkbox\" ><label for=\"sk-estimator-id-63\" class=\"sk-toggleable__label fitted sk-toggleable__label-arrow fitted\">num</label><div class=\"sk-toggleable__content fitted\"><pre>[&#x27;trips_in_first_30_days&#x27;, &#x27;avg_rating_of_driver&#x27;, &#x27;avg_surge&#x27;, &#x27;surge_pct&#x27;, &#x27;weekday_pct&#x27;, &#x27;avg_dist&#x27;, &#x27;avg_rating_by_driver&#x27;]</pre></div> </div></div><div class=\"sk-serial\"><div class=\"sk-item\"><div class=\"sk-estimator fitted sk-toggleable\"><input class=\"sk-toggleable__control sk-hidden--visually\" id=\"sk-estimator-id-64\" type=\"checkbox\" ><label for=\"sk-estimator-id-64\" class=\"sk-toggleable__label fitted sk-toggleable__label-arrow fitted\">&nbsp;StandardScaler<a class=\"sk-estimator-doc-link fitted\" rel=\"noreferrer\" target=\"_blank\" href=\"https://scikit-learn.org/1.4/modules/generated/sklearn.preprocessing.StandardScaler.html\">?<span>Documentation for StandardScaler</span></a></label><div class=\"sk-toggleable__content fitted\"><pre>StandardScaler()</pre></div> </div></div></div></div></div><div class=\"sk-parallel-item\"><div class=\"sk-item\"><div class=\"sk-label-container\"><div class=\"sk-label fitted sk-toggleable\"><input class=\"sk-toggleable__control sk-hidden--visually\" id=\"sk-estimator-id-65\" type=\"checkbox\" ><label for=\"sk-estimator-id-65\" class=\"sk-toggleable__label fitted sk-toggleable__label-arrow fitted\">cat</label><div class=\"sk-toggleable__content fitted\"><pre>[&#x27;city&#x27;, &#x27;phone&#x27;, &#x27;ultimate_black_user&#x27;]</pre></div> </div></div><div class=\"sk-serial\"><div class=\"sk-item\"><div class=\"sk-estimator fitted sk-toggleable\"><input class=\"sk-toggleable__control sk-hidden--visually\" id=\"sk-estimator-id-66\" type=\"checkbox\" ><label for=\"sk-estimator-id-66\" class=\"sk-toggleable__label fitted sk-toggleable__label-arrow fitted\">&nbsp;OneHotEncoder<a class=\"sk-estimator-doc-link fitted\" rel=\"noreferrer\" target=\"_blank\" href=\"https://scikit-learn.org/1.4/modules/generated/sklearn.preprocessing.OneHotEncoder.html\">?<span>Documentation for OneHotEncoder</span></a></label><div class=\"sk-toggleable__content fitted\"><pre>OneHotEncoder(drop=&#x27;first&#x27;)</pre></div> </div></div></div></div></div></div></div><div class=\"sk-item\"><div class=\"sk-estimator fitted sk-toggleable\"><input class=\"sk-toggleable__control sk-hidden--visually\" id=\"sk-estimator-id-67\" type=\"checkbox\" ><label for=\"sk-estimator-id-67\" class=\"sk-toggleable__label fitted sk-toggleable__label-arrow fitted\">&nbsp;LogisticRegression<a class=\"sk-estimator-doc-link fitted\" rel=\"noreferrer\" target=\"_blank\" href=\"https://scikit-learn.org/1.4/modules/generated/sklearn.linear_model.LogisticRegression.html\">?<span>Documentation for LogisticRegression</span></a></label><div class=\"sk-toggleable__content fitted\"><pre>LogisticRegression(max_iter=1000)</pre></div> </div></div></div></div></div></div>"
      ],
      "text/plain": [
       "Pipeline(steps=[('preprocessor',\n",
       "                 ColumnTransformer(transformers=[('num', StandardScaler(),\n",
       "                                                  ['trips_in_first_30_days',\n",
       "                                                   'avg_rating_of_driver',\n",
       "                                                   'avg_surge', 'surge_pct',\n",
       "                                                   'weekday_pct', 'avg_dist',\n",
       "                                                   'avg_rating_by_driver']),\n",
       "                                                 ('cat',\n",
       "                                                  OneHotEncoder(drop='first'),\n",
       "                                                  ['city', 'phone',\n",
       "                                                   'ultimate_black_user'])])),\n",
       "                ('classifier', LogisticRegression(max_iter=1000))])"
      ]
     },
     "execution_count": 418,
     "metadata": {},
     "output_type": "execute_result"
    }
   ],
   "source": [
    "X_train, X_test, y_train, y_test = train_test_split(X, y, test_size=0.2)\n",
    "\n",
    "model.fit(X_train, y_train)"
   ]
  },
  {
   "cell_type": "code",
   "execution_count": 419,
   "id": "40bbec8c",
   "metadata": {},
   "outputs": [
    {
     "name": "stdout",
     "output_type": "stream",
     "text": [
      "Confusion Matrix:\n",
      " [[5306  932]\n",
      " [1892 1870]]\n",
      "\n",
      "Classification Report:\n",
      "               precision    recall  f1-score   support\n",
      "\n",
      "       False       0.74      0.85      0.79      6238\n",
      "        True       0.67      0.50      0.57      3762\n",
      "\n",
      "    accuracy                           0.72     10000\n",
      "   macro avg       0.70      0.67      0.68     10000\n",
      "weighted avg       0.71      0.72      0.71     10000\n",
      "\n",
      "ROC AUC Score: 0.7656524450389726\n"
     ]
    }
   ],
   "source": [
    "y_pred = model.predict(X_test)\n",
    "y_prob = model.predict_proba(X_test)[:, 1]\n",
    "\n",
    "print(\"Confusion Matrix:\\n\", confusion_matrix(y_test, y_pred))\n",
    "print(\"\\nClassification Report:\\n\", classification_report(y_test, y_pred))\n",
    "print(\"ROC AUC Score:\", roc_auc_score(y_test, y_prob))"
   ]
  },
  {
   "cell_type": "markdown",
   "id": "a47f2a84",
   "metadata": {},
   "source": [
    "### Linear Regression Training results:\n",
    "##### 72% of users were correctly classified\n",
    "##### The AUC score, at .76 means are model was mostly successful for its predictions.\n",
    "##### There is a high recall for False, which is good, but the recall for True is at 50%"
   ]
  },
  {
   "cell_type": "markdown",
   "id": "582fdba1",
   "metadata": {},
   "source": [
    "### The failure rate for True suggests the Linear Regression was not powerful enough to make accurate predictions.  Given the large number of outliers in the data, this result is not surprising.\n",
    "\n",
    "### I will instead try a Random Forest Model to see if it works better."
   ]
  },
  {
   "cell_type": "code",
   "execution_count": 424,
   "id": "9df4e2ae",
   "metadata": {},
   "outputs": [],
   "source": [
    "rf_model = Pipeline(steps=[\n",
    "    ('preprocessor', preprocessor),\n",
    "    ('classifier', RandomForestClassifier(n_estimators=100))\n",
    "])"
   ]
  },
  {
   "cell_type": "code",
   "execution_count": 425,
   "id": "3471d037",
   "metadata": {},
   "outputs": [
    {
     "data": {
      "text/html": [
       "<style>#sk-container-id-14 {\n",
       "  /* Definition of color scheme common for light and dark mode */\n",
       "  --sklearn-color-text: black;\n",
       "  --sklearn-color-line: gray;\n",
       "  /* Definition of color scheme for unfitted estimators */\n",
       "  --sklearn-color-unfitted-level-0: #fff5e6;\n",
       "  --sklearn-color-unfitted-level-1: #f6e4d2;\n",
       "  --sklearn-color-unfitted-level-2: #ffe0b3;\n",
       "  --sklearn-color-unfitted-level-3: chocolate;\n",
       "  /* Definition of color scheme for fitted estimators */\n",
       "  --sklearn-color-fitted-level-0: #f0f8ff;\n",
       "  --sklearn-color-fitted-level-1: #d4ebff;\n",
       "  --sklearn-color-fitted-level-2: #b3dbfd;\n",
       "  --sklearn-color-fitted-level-3: cornflowerblue;\n",
       "\n",
       "  /* Specific color for light theme */\n",
       "  --sklearn-color-text-on-default-background: var(--sg-text-color, var(--theme-code-foreground, var(--jp-content-font-color1, black)));\n",
       "  --sklearn-color-background: var(--sg-background-color, var(--theme-background, var(--jp-layout-color0, white)));\n",
       "  --sklearn-color-border-box: var(--sg-text-color, var(--theme-code-foreground, var(--jp-content-font-color1, black)));\n",
       "  --sklearn-color-icon: #696969;\n",
       "\n",
       "  @media (prefers-color-scheme: dark) {\n",
       "    /* Redefinition of color scheme for dark theme */\n",
       "    --sklearn-color-text-on-default-background: var(--sg-text-color, var(--theme-code-foreground, var(--jp-content-font-color1, white)));\n",
       "    --sklearn-color-background: var(--sg-background-color, var(--theme-background, var(--jp-layout-color0, #111)));\n",
       "    --sklearn-color-border-box: var(--sg-text-color, var(--theme-code-foreground, var(--jp-content-font-color1, white)));\n",
       "    --sklearn-color-icon: #878787;\n",
       "  }\n",
       "}\n",
       "\n",
       "#sk-container-id-14 {\n",
       "  color: var(--sklearn-color-text);\n",
       "}\n",
       "\n",
       "#sk-container-id-14 pre {\n",
       "  padding: 0;\n",
       "}\n",
       "\n",
       "#sk-container-id-14 input.sk-hidden--visually {\n",
       "  border: 0;\n",
       "  clip: rect(1px 1px 1px 1px);\n",
       "  clip: rect(1px, 1px, 1px, 1px);\n",
       "  height: 1px;\n",
       "  margin: -1px;\n",
       "  overflow: hidden;\n",
       "  padding: 0;\n",
       "  position: absolute;\n",
       "  width: 1px;\n",
       "}\n",
       "\n",
       "#sk-container-id-14 div.sk-dashed-wrapped {\n",
       "  border: 1px dashed var(--sklearn-color-line);\n",
       "  margin: 0 0.4em 0.5em 0.4em;\n",
       "  box-sizing: border-box;\n",
       "  padding-bottom: 0.4em;\n",
       "  background-color: var(--sklearn-color-background);\n",
       "}\n",
       "\n",
       "#sk-container-id-14 div.sk-container {\n",
       "  /* jupyter's `normalize.less` sets `[hidden] { display: none; }`\n",
       "     but bootstrap.min.css set `[hidden] { display: none !important; }`\n",
       "     so we also need the `!important` here to be able to override the\n",
       "     default hidden behavior on the sphinx rendered scikit-learn.org.\n",
       "     See: https://github.com/scikit-learn/scikit-learn/issues/21755 */\n",
       "  display: inline-block !important;\n",
       "  position: relative;\n",
       "}\n",
       "\n",
       "#sk-container-id-14 div.sk-text-repr-fallback {\n",
       "  display: none;\n",
       "}\n",
       "\n",
       "div.sk-parallel-item,\n",
       "div.sk-serial,\n",
       "div.sk-item {\n",
       "  /* draw centered vertical line to link estimators */\n",
       "  background-image: linear-gradient(var(--sklearn-color-text-on-default-background), var(--sklearn-color-text-on-default-background));\n",
       "  background-size: 2px 100%;\n",
       "  background-repeat: no-repeat;\n",
       "  background-position: center center;\n",
       "}\n",
       "\n",
       "/* Parallel-specific style estimator block */\n",
       "\n",
       "#sk-container-id-14 div.sk-parallel-item::after {\n",
       "  content: \"\";\n",
       "  width: 100%;\n",
       "  border-bottom: 2px solid var(--sklearn-color-text-on-default-background);\n",
       "  flex-grow: 1;\n",
       "}\n",
       "\n",
       "#sk-container-id-14 div.sk-parallel {\n",
       "  display: flex;\n",
       "  align-items: stretch;\n",
       "  justify-content: center;\n",
       "  background-color: var(--sklearn-color-background);\n",
       "  position: relative;\n",
       "}\n",
       "\n",
       "#sk-container-id-14 div.sk-parallel-item {\n",
       "  display: flex;\n",
       "  flex-direction: column;\n",
       "}\n",
       "\n",
       "#sk-container-id-14 div.sk-parallel-item:first-child::after {\n",
       "  align-self: flex-end;\n",
       "  width: 50%;\n",
       "}\n",
       "\n",
       "#sk-container-id-14 div.sk-parallel-item:last-child::after {\n",
       "  align-self: flex-start;\n",
       "  width: 50%;\n",
       "}\n",
       "\n",
       "#sk-container-id-14 div.sk-parallel-item:only-child::after {\n",
       "  width: 0;\n",
       "}\n",
       "\n",
       "/* Serial-specific style estimator block */\n",
       "\n",
       "#sk-container-id-14 div.sk-serial {\n",
       "  display: flex;\n",
       "  flex-direction: column;\n",
       "  align-items: center;\n",
       "  background-color: var(--sklearn-color-background);\n",
       "  padding-right: 1em;\n",
       "  padding-left: 1em;\n",
       "}\n",
       "\n",
       "\n",
       "/* Toggleable style: style used for estimator/Pipeline/ColumnTransformer box that is\n",
       "clickable and can be expanded/collapsed.\n",
       "- Pipeline and ColumnTransformer use this feature and define the default style\n",
       "- Estimators will overwrite some part of the style using the `sk-estimator` class\n",
       "*/\n",
       "\n",
       "/* Pipeline and ColumnTransformer style (default) */\n",
       "\n",
       "#sk-container-id-14 div.sk-toggleable {\n",
       "  /* Default theme specific background. It is overwritten whether we have a\n",
       "  specific estimator or a Pipeline/ColumnTransformer */\n",
       "  background-color: var(--sklearn-color-background);\n",
       "}\n",
       "\n",
       "/* Toggleable label */\n",
       "#sk-container-id-14 label.sk-toggleable__label {\n",
       "  cursor: pointer;\n",
       "  display: block;\n",
       "  width: 100%;\n",
       "  margin-bottom: 0;\n",
       "  padding: 0.5em;\n",
       "  box-sizing: border-box;\n",
       "  text-align: center;\n",
       "}\n",
       "\n",
       "#sk-container-id-14 label.sk-toggleable__label-arrow:before {\n",
       "  /* Arrow on the left of the label */\n",
       "  content: \"▸\";\n",
       "  float: left;\n",
       "  margin-right: 0.25em;\n",
       "  color: var(--sklearn-color-icon);\n",
       "}\n",
       "\n",
       "#sk-container-id-14 label.sk-toggleable__label-arrow:hover:before {\n",
       "  color: var(--sklearn-color-text);\n",
       "}\n",
       "\n",
       "/* Toggleable content - dropdown */\n",
       "\n",
       "#sk-container-id-14 div.sk-toggleable__content {\n",
       "  max-height: 0;\n",
       "  max-width: 0;\n",
       "  overflow: hidden;\n",
       "  text-align: left;\n",
       "  /* unfitted */\n",
       "  background-color: var(--sklearn-color-unfitted-level-0);\n",
       "}\n",
       "\n",
       "#sk-container-id-14 div.sk-toggleable__content.fitted {\n",
       "  /* fitted */\n",
       "  background-color: var(--sklearn-color-fitted-level-0);\n",
       "}\n",
       "\n",
       "#sk-container-id-14 div.sk-toggleable__content pre {\n",
       "  margin: 0.2em;\n",
       "  border-radius: 0.25em;\n",
       "  color: var(--sklearn-color-text);\n",
       "  /* unfitted */\n",
       "  background-color: var(--sklearn-color-unfitted-level-0);\n",
       "}\n",
       "\n",
       "#sk-container-id-14 div.sk-toggleable__content.fitted pre {\n",
       "  /* unfitted */\n",
       "  background-color: var(--sklearn-color-fitted-level-0);\n",
       "}\n",
       "\n",
       "#sk-container-id-14 input.sk-toggleable__control:checked~div.sk-toggleable__content {\n",
       "  /* Expand drop-down */\n",
       "  max-height: 200px;\n",
       "  max-width: 100%;\n",
       "  overflow: auto;\n",
       "}\n",
       "\n",
       "#sk-container-id-14 input.sk-toggleable__control:checked~label.sk-toggleable__label-arrow:before {\n",
       "  content: \"▾\";\n",
       "}\n",
       "\n",
       "/* Pipeline/ColumnTransformer-specific style */\n",
       "\n",
       "#sk-container-id-14 div.sk-label input.sk-toggleable__control:checked~label.sk-toggleable__label {\n",
       "  color: var(--sklearn-color-text);\n",
       "  background-color: var(--sklearn-color-unfitted-level-2);\n",
       "}\n",
       "\n",
       "#sk-container-id-14 div.sk-label.fitted input.sk-toggleable__control:checked~label.sk-toggleable__label {\n",
       "  background-color: var(--sklearn-color-fitted-level-2);\n",
       "}\n",
       "\n",
       "/* Estimator-specific style */\n",
       "\n",
       "/* Colorize estimator box */\n",
       "#sk-container-id-14 div.sk-estimator input.sk-toggleable__control:checked~label.sk-toggleable__label {\n",
       "  /* unfitted */\n",
       "  background-color: var(--sklearn-color-unfitted-level-2);\n",
       "}\n",
       "\n",
       "#sk-container-id-14 div.sk-estimator.fitted input.sk-toggleable__control:checked~label.sk-toggleable__label {\n",
       "  /* fitted */\n",
       "  background-color: var(--sklearn-color-fitted-level-2);\n",
       "}\n",
       "\n",
       "#sk-container-id-14 div.sk-label label.sk-toggleable__label,\n",
       "#sk-container-id-14 div.sk-label label {\n",
       "  /* The background is the default theme color */\n",
       "  color: var(--sklearn-color-text-on-default-background);\n",
       "}\n",
       "\n",
       "/* On hover, darken the color of the background */\n",
       "#sk-container-id-14 div.sk-label:hover label.sk-toggleable__label {\n",
       "  color: var(--sklearn-color-text);\n",
       "  background-color: var(--sklearn-color-unfitted-level-2);\n",
       "}\n",
       "\n",
       "/* Label box, darken color on hover, fitted */\n",
       "#sk-container-id-14 div.sk-label.fitted:hover label.sk-toggleable__label.fitted {\n",
       "  color: var(--sklearn-color-text);\n",
       "  background-color: var(--sklearn-color-fitted-level-2);\n",
       "}\n",
       "\n",
       "/* Estimator label */\n",
       "\n",
       "#sk-container-id-14 div.sk-label label {\n",
       "  font-family: monospace;\n",
       "  font-weight: bold;\n",
       "  display: inline-block;\n",
       "  line-height: 1.2em;\n",
       "}\n",
       "\n",
       "#sk-container-id-14 div.sk-label-container {\n",
       "  text-align: center;\n",
       "}\n",
       "\n",
       "/* Estimator-specific */\n",
       "#sk-container-id-14 div.sk-estimator {\n",
       "  font-family: monospace;\n",
       "  border: 1px dotted var(--sklearn-color-border-box);\n",
       "  border-radius: 0.25em;\n",
       "  box-sizing: border-box;\n",
       "  margin-bottom: 0.5em;\n",
       "  /* unfitted */\n",
       "  background-color: var(--sklearn-color-unfitted-level-0);\n",
       "}\n",
       "\n",
       "#sk-container-id-14 div.sk-estimator.fitted {\n",
       "  /* fitted */\n",
       "  background-color: var(--sklearn-color-fitted-level-0);\n",
       "}\n",
       "\n",
       "/* on hover */\n",
       "#sk-container-id-14 div.sk-estimator:hover {\n",
       "  /* unfitted */\n",
       "  background-color: var(--sklearn-color-unfitted-level-2);\n",
       "}\n",
       "\n",
       "#sk-container-id-14 div.sk-estimator.fitted:hover {\n",
       "  /* fitted */\n",
       "  background-color: var(--sklearn-color-fitted-level-2);\n",
       "}\n",
       "\n",
       "/* Specification for estimator info (e.g. \"i\" and \"?\") */\n",
       "\n",
       "/* Common style for \"i\" and \"?\" */\n",
       "\n",
       ".sk-estimator-doc-link,\n",
       "a:link.sk-estimator-doc-link,\n",
       "a:visited.sk-estimator-doc-link {\n",
       "  float: right;\n",
       "  font-size: smaller;\n",
       "  line-height: 1em;\n",
       "  font-family: monospace;\n",
       "  background-color: var(--sklearn-color-background);\n",
       "  border-radius: 1em;\n",
       "  height: 1em;\n",
       "  width: 1em;\n",
       "  text-decoration: none !important;\n",
       "  margin-left: 1ex;\n",
       "  /* unfitted */\n",
       "  border: var(--sklearn-color-unfitted-level-1) 1pt solid;\n",
       "  color: var(--sklearn-color-unfitted-level-1);\n",
       "}\n",
       "\n",
       ".sk-estimator-doc-link.fitted,\n",
       "a:link.sk-estimator-doc-link.fitted,\n",
       "a:visited.sk-estimator-doc-link.fitted {\n",
       "  /* fitted */\n",
       "  border: var(--sklearn-color-fitted-level-1) 1pt solid;\n",
       "  color: var(--sklearn-color-fitted-level-1);\n",
       "}\n",
       "\n",
       "/* On hover */\n",
       "div.sk-estimator:hover .sk-estimator-doc-link:hover,\n",
       ".sk-estimator-doc-link:hover,\n",
       "div.sk-label-container:hover .sk-estimator-doc-link:hover,\n",
       ".sk-estimator-doc-link:hover {\n",
       "  /* unfitted */\n",
       "  background-color: var(--sklearn-color-unfitted-level-3);\n",
       "  color: var(--sklearn-color-background);\n",
       "  text-decoration: none;\n",
       "}\n",
       "\n",
       "div.sk-estimator.fitted:hover .sk-estimator-doc-link.fitted:hover,\n",
       ".sk-estimator-doc-link.fitted:hover,\n",
       "div.sk-label-container:hover .sk-estimator-doc-link.fitted:hover,\n",
       ".sk-estimator-doc-link.fitted:hover {\n",
       "  /* fitted */\n",
       "  background-color: var(--sklearn-color-fitted-level-3);\n",
       "  color: var(--sklearn-color-background);\n",
       "  text-decoration: none;\n",
       "}\n",
       "\n",
       "/* Span, style for the box shown on hovering the info icon */\n",
       ".sk-estimator-doc-link span {\n",
       "  display: none;\n",
       "  z-index: 9999;\n",
       "  position: relative;\n",
       "  font-weight: normal;\n",
       "  right: .2ex;\n",
       "  padding: .5ex;\n",
       "  margin: .5ex;\n",
       "  width: min-content;\n",
       "  min-width: 20ex;\n",
       "  max-width: 50ex;\n",
       "  color: var(--sklearn-color-text);\n",
       "  box-shadow: 2pt 2pt 4pt #999;\n",
       "  /* unfitted */\n",
       "  background: var(--sklearn-color-unfitted-level-0);\n",
       "  border: .5pt solid var(--sklearn-color-unfitted-level-3);\n",
       "}\n",
       "\n",
       ".sk-estimator-doc-link.fitted span {\n",
       "  /* fitted */\n",
       "  background: var(--sklearn-color-fitted-level-0);\n",
       "  border: var(--sklearn-color-fitted-level-3);\n",
       "}\n",
       "\n",
       ".sk-estimator-doc-link:hover span {\n",
       "  display: block;\n",
       "}\n",
       "\n",
       "/* \"?\"-specific style due to the `<a>` HTML tag */\n",
       "\n",
       "#sk-container-id-14 a.estimator_doc_link {\n",
       "  float: right;\n",
       "  font-size: 1rem;\n",
       "  line-height: 1em;\n",
       "  font-family: monospace;\n",
       "  background-color: var(--sklearn-color-background);\n",
       "  border-radius: 1rem;\n",
       "  height: 1rem;\n",
       "  width: 1rem;\n",
       "  text-decoration: none;\n",
       "  /* unfitted */\n",
       "  color: var(--sklearn-color-unfitted-level-1);\n",
       "  border: var(--sklearn-color-unfitted-level-1) 1pt solid;\n",
       "}\n",
       "\n",
       "#sk-container-id-14 a.estimator_doc_link.fitted {\n",
       "  /* fitted */\n",
       "  border: var(--sklearn-color-fitted-level-1) 1pt solid;\n",
       "  color: var(--sklearn-color-fitted-level-1);\n",
       "}\n",
       "\n",
       "/* On hover */\n",
       "#sk-container-id-14 a.estimator_doc_link:hover {\n",
       "  /* unfitted */\n",
       "  background-color: var(--sklearn-color-unfitted-level-3);\n",
       "  color: var(--sklearn-color-background);\n",
       "  text-decoration: none;\n",
       "}\n",
       "\n",
       "#sk-container-id-14 a.estimator_doc_link.fitted:hover {\n",
       "  /* fitted */\n",
       "  background-color: var(--sklearn-color-fitted-level-3);\n",
       "}\n",
       "</style><div id=\"sk-container-id-14\" class=\"sk-top-container\"><div class=\"sk-text-repr-fallback\"><pre>Pipeline(steps=[(&#x27;preprocessor&#x27;,\n",
       "                 ColumnTransformer(transformers=[(&#x27;num&#x27;, StandardScaler(),\n",
       "                                                  [&#x27;trips_in_first_30_days&#x27;,\n",
       "                                                   &#x27;avg_rating_of_driver&#x27;,\n",
       "                                                   &#x27;avg_surge&#x27;, &#x27;surge_pct&#x27;,\n",
       "                                                   &#x27;weekday_pct&#x27;, &#x27;avg_dist&#x27;,\n",
       "                                                   &#x27;avg_rating_by_driver&#x27;]),\n",
       "                                                 (&#x27;cat&#x27;,\n",
       "                                                  OneHotEncoder(drop=&#x27;first&#x27;),\n",
       "                                                  [&#x27;city&#x27;, &#x27;phone&#x27;,\n",
       "                                                   &#x27;ultimate_black_user&#x27;])])),\n",
       "                (&#x27;classifier&#x27;, RandomForestClassifier())])</pre><b>In a Jupyter environment, please rerun this cell to show the HTML representation or trust the notebook. <br />On GitHub, the HTML representation is unable to render, please try loading this page with nbviewer.org.</b></div><div class=\"sk-container\" hidden><div class=\"sk-item sk-dashed-wrapped\"><div class=\"sk-label-container\"><div class=\"sk-label fitted sk-toggleable\"><input class=\"sk-toggleable__control sk-hidden--visually\" id=\"sk-estimator-id-68\" type=\"checkbox\" ><label for=\"sk-estimator-id-68\" class=\"sk-toggleable__label fitted sk-toggleable__label-arrow fitted\">&nbsp;&nbsp;Pipeline<a class=\"sk-estimator-doc-link fitted\" rel=\"noreferrer\" target=\"_blank\" href=\"https://scikit-learn.org/1.4/modules/generated/sklearn.pipeline.Pipeline.html\">?<span>Documentation for Pipeline</span></a><span class=\"sk-estimator-doc-link fitted\">i<span>Fitted</span></span></label><div class=\"sk-toggleable__content fitted\"><pre>Pipeline(steps=[(&#x27;preprocessor&#x27;,\n",
       "                 ColumnTransformer(transformers=[(&#x27;num&#x27;, StandardScaler(),\n",
       "                                                  [&#x27;trips_in_first_30_days&#x27;,\n",
       "                                                   &#x27;avg_rating_of_driver&#x27;,\n",
       "                                                   &#x27;avg_surge&#x27;, &#x27;surge_pct&#x27;,\n",
       "                                                   &#x27;weekday_pct&#x27;, &#x27;avg_dist&#x27;,\n",
       "                                                   &#x27;avg_rating_by_driver&#x27;]),\n",
       "                                                 (&#x27;cat&#x27;,\n",
       "                                                  OneHotEncoder(drop=&#x27;first&#x27;),\n",
       "                                                  [&#x27;city&#x27;, &#x27;phone&#x27;,\n",
       "                                                   &#x27;ultimate_black_user&#x27;])])),\n",
       "                (&#x27;classifier&#x27;, RandomForestClassifier())])</pre></div> </div></div><div class=\"sk-serial\"><div class=\"sk-item sk-dashed-wrapped\"><div class=\"sk-label-container\"><div class=\"sk-label fitted sk-toggleable\"><input class=\"sk-toggleable__control sk-hidden--visually\" id=\"sk-estimator-id-69\" type=\"checkbox\" ><label for=\"sk-estimator-id-69\" class=\"sk-toggleable__label fitted sk-toggleable__label-arrow fitted\">&nbsp;preprocessor: ColumnTransformer<a class=\"sk-estimator-doc-link fitted\" rel=\"noreferrer\" target=\"_blank\" href=\"https://scikit-learn.org/1.4/modules/generated/sklearn.compose.ColumnTransformer.html\">?<span>Documentation for preprocessor: ColumnTransformer</span></a></label><div class=\"sk-toggleable__content fitted\"><pre>ColumnTransformer(transformers=[(&#x27;num&#x27;, StandardScaler(),\n",
       "                                 [&#x27;trips_in_first_30_days&#x27;,\n",
       "                                  &#x27;avg_rating_of_driver&#x27;, &#x27;avg_surge&#x27;,\n",
       "                                  &#x27;surge_pct&#x27;, &#x27;weekday_pct&#x27;, &#x27;avg_dist&#x27;,\n",
       "                                  &#x27;avg_rating_by_driver&#x27;]),\n",
       "                                (&#x27;cat&#x27;, OneHotEncoder(drop=&#x27;first&#x27;),\n",
       "                                 [&#x27;city&#x27;, &#x27;phone&#x27;, &#x27;ultimate_black_user&#x27;])])</pre></div> </div></div><div class=\"sk-parallel\"><div class=\"sk-parallel-item\"><div class=\"sk-item\"><div class=\"sk-label-container\"><div class=\"sk-label fitted sk-toggleable\"><input class=\"sk-toggleable__control sk-hidden--visually\" id=\"sk-estimator-id-70\" type=\"checkbox\" ><label for=\"sk-estimator-id-70\" class=\"sk-toggleable__label fitted sk-toggleable__label-arrow fitted\">num</label><div class=\"sk-toggleable__content fitted\"><pre>[&#x27;trips_in_first_30_days&#x27;, &#x27;avg_rating_of_driver&#x27;, &#x27;avg_surge&#x27;, &#x27;surge_pct&#x27;, &#x27;weekday_pct&#x27;, &#x27;avg_dist&#x27;, &#x27;avg_rating_by_driver&#x27;]</pre></div> </div></div><div class=\"sk-serial\"><div class=\"sk-item\"><div class=\"sk-estimator fitted sk-toggleable\"><input class=\"sk-toggleable__control sk-hidden--visually\" id=\"sk-estimator-id-71\" type=\"checkbox\" ><label for=\"sk-estimator-id-71\" class=\"sk-toggleable__label fitted sk-toggleable__label-arrow fitted\">&nbsp;StandardScaler<a class=\"sk-estimator-doc-link fitted\" rel=\"noreferrer\" target=\"_blank\" href=\"https://scikit-learn.org/1.4/modules/generated/sklearn.preprocessing.StandardScaler.html\">?<span>Documentation for StandardScaler</span></a></label><div class=\"sk-toggleable__content fitted\"><pre>StandardScaler()</pre></div> </div></div></div></div></div><div class=\"sk-parallel-item\"><div class=\"sk-item\"><div class=\"sk-label-container\"><div class=\"sk-label fitted sk-toggleable\"><input class=\"sk-toggleable__control sk-hidden--visually\" id=\"sk-estimator-id-72\" type=\"checkbox\" ><label for=\"sk-estimator-id-72\" class=\"sk-toggleable__label fitted sk-toggleable__label-arrow fitted\">cat</label><div class=\"sk-toggleable__content fitted\"><pre>[&#x27;city&#x27;, &#x27;phone&#x27;, &#x27;ultimate_black_user&#x27;]</pre></div> </div></div><div class=\"sk-serial\"><div class=\"sk-item\"><div class=\"sk-estimator fitted sk-toggleable\"><input class=\"sk-toggleable__control sk-hidden--visually\" id=\"sk-estimator-id-73\" type=\"checkbox\" ><label for=\"sk-estimator-id-73\" class=\"sk-toggleable__label fitted sk-toggleable__label-arrow fitted\">&nbsp;OneHotEncoder<a class=\"sk-estimator-doc-link fitted\" rel=\"noreferrer\" target=\"_blank\" href=\"https://scikit-learn.org/1.4/modules/generated/sklearn.preprocessing.OneHotEncoder.html\">?<span>Documentation for OneHotEncoder</span></a></label><div class=\"sk-toggleable__content fitted\"><pre>OneHotEncoder(drop=&#x27;first&#x27;)</pre></div> </div></div></div></div></div></div></div><div class=\"sk-item\"><div class=\"sk-estimator fitted sk-toggleable\"><input class=\"sk-toggleable__control sk-hidden--visually\" id=\"sk-estimator-id-74\" type=\"checkbox\" ><label for=\"sk-estimator-id-74\" class=\"sk-toggleable__label fitted sk-toggleable__label-arrow fitted\">&nbsp;RandomForestClassifier<a class=\"sk-estimator-doc-link fitted\" rel=\"noreferrer\" target=\"_blank\" href=\"https://scikit-learn.org/1.4/modules/generated/sklearn.ensemble.RandomForestClassifier.html\">?<span>Documentation for RandomForestClassifier</span></a></label><div class=\"sk-toggleable__content fitted\"><pre>RandomForestClassifier()</pre></div> </div></div></div></div></div></div>"
      ],
      "text/plain": [
       "Pipeline(steps=[('preprocessor',\n",
       "                 ColumnTransformer(transformers=[('num', StandardScaler(),\n",
       "                                                  ['trips_in_first_30_days',\n",
       "                                                   'avg_rating_of_driver',\n",
       "                                                   'avg_surge', 'surge_pct',\n",
       "                                                   'weekday_pct', 'avg_dist',\n",
       "                                                   'avg_rating_by_driver']),\n",
       "                                                 ('cat',\n",
       "                                                  OneHotEncoder(drop='first'),\n",
       "                                                  ['city', 'phone',\n",
       "                                                   'ultimate_black_user'])])),\n",
       "                ('classifier', RandomForestClassifier())])"
      ]
     },
     "execution_count": 425,
     "metadata": {},
     "output_type": "execute_result"
    }
   ],
   "source": [
    "X_train, X_test, y_train, y_test = train_test_split(\n",
    "    X, y, test_size=0.2\n",
    ")\n",
    "\n",
    "rf_model.fit(X_train, y_train)"
   ]
  },
  {
   "cell_type": "code",
   "execution_count": 426,
   "id": "8f7e5847",
   "metadata": {},
   "outputs": [
    {
     "name": "stdout",
     "output_type": "stream",
     "text": [
      "Confusion Matrix:\n",
      " [[5108 1159]\n",
      " [1236 2497]]\n",
      "\n",
      "Classification Report:\n",
      "               precision    recall  f1-score   support\n",
      "\n",
      "       False       0.81      0.82      0.81      6267\n",
      "        True       0.68      0.67      0.68      3733\n",
      "\n",
      "    accuracy                           0.76     10000\n",
      "   macro avg       0.74      0.74      0.74     10000\n",
      "weighted avg       0.76      0.76      0.76     10000\n",
      "\n",
      "ROC AUC Score: 0.8242210814230619\n"
     ]
    }
   ],
   "source": [
    "y_pred = rf_model.predict(X_test)\n",
    "y_prob = rf_model.predict_proba(X_test)[:, 1]\n",
    "\n",
    "print(\"Confusion Matrix:\\n\", confusion_matrix(y_test, y_pred))\n",
    "print(\"\\nClassification Report:\\n\", classification_report(y_test, y_pred))\n",
    "print(\"ROC AUC Score:\", roc_auc_score(y_test, y_prob))"
   ]
  },
  {
   "cell_type": "markdown",
   "id": "2803c744",
   "metadata": {},
   "source": [
    "### Random Forest Regression Training results:\n",
    "##### 75% of users were correctly classified (up 3% from LR)\n",
    "##### The AUC score, at .82 means are model was more successful for its predictions (up .06)\n",
    "##### There is a higher recall for both True and False as well"
   ]
  },
  {
   "cell_type": "markdown",
   "id": "498c7892",
   "metadata": {},
   "source": [
    "### While these numbers are all improvements over a Linear Regression, I'm hoping for better predictive performance, so I'm going to test XGBoost instead"
   ]
  },
  {
   "cell_type": "code",
   "execution_count": 427,
   "id": "45b58c65",
   "metadata": {},
   "outputs": [],
   "source": [
    "xgb_pipeline = Pipeline(steps=[\n",
    "    ('preprocessor', preprocessor),\n",
    "    ('classifier', XGBClassifier(\n",
    "        use_label_encoder=False, \n",
    "        eval_metric='logloss', \n",
    "    ))\n",
    "])"
   ]
  },
  {
   "cell_type": "code",
   "execution_count": 428,
   "id": "8951d69b",
   "metadata": {},
   "outputs": [
    {
     "name": "stderr",
     "output_type": "stream",
     "text": [
      "C:\\Users\\emcdo\\anaconda3\\Lib\\site-packages\\xgboost\\training.py:183: UserWarning: [16:03:05] WARNING: C:\\actions-runner\\_work\\xgboost\\xgboost\\src\\learner.cc:738: \n",
      "Parameters: { \"use_label_encoder\" } are not used.\n",
      "\n",
      "  bst.update(dtrain, iteration=i, fobj=obj)\n"
     ]
    },
    {
     "data": {
      "text/html": [
       "<style>#sk-container-id-15 {\n",
       "  /* Definition of color scheme common for light and dark mode */\n",
       "  --sklearn-color-text: black;\n",
       "  --sklearn-color-line: gray;\n",
       "  /* Definition of color scheme for unfitted estimators */\n",
       "  --sklearn-color-unfitted-level-0: #fff5e6;\n",
       "  --sklearn-color-unfitted-level-1: #f6e4d2;\n",
       "  --sklearn-color-unfitted-level-2: #ffe0b3;\n",
       "  --sklearn-color-unfitted-level-3: chocolate;\n",
       "  /* Definition of color scheme for fitted estimators */\n",
       "  --sklearn-color-fitted-level-0: #f0f8ff;\n",
       "  --sklearn-color-fitted-level-1: #d4ebff;\n",
       "  --sklearn-color-fitted-level-2: #b3dbfd;\n",
       "  --sklearn-color-fitted-level-3: cornflowerblue;\n",
       "\n",
       "  /* Specific color for light theme */\n",
       "  --sklearn-color-text-on-default-background: var(--sg-text-color, var(--theme-code-foreground, var(--jp-content-font-color1, black)));\n",
       "  --sklearn-color-background: var(--sg-background-color, var(--theme-background, var(--jp-layout-color0, white)));\n",
       "  --sklearn-color-border-box: var(--sg-text-color, var(--theme-code-foreground, var(--jp-content-font-color1, black)));\n",
       "  --sklearn-color-icon: #696969;\n",
       "\n",
       "  @media (prefers-color-scheme: dark) {\n",
       "    /* Redefinition of color scheme for dark theme */\n",
       "    --sklearn-color-text-on-default-background: var(--sg-text-color, var(--theme-code-foreground, var(--jp-content-font-color1, white)));\n",
       "    --sklearn-color-background: var(--sg-background-color, var(--theme-background, var(--jp-layout-color0, #111)));\n",
       "    --sklearn-color-border-box: var(--sg-text-color, var(--theme-code-foreground, var(--jp-content-font-color1, white)));\n",
       "    --sklearn-color-icon: #878787;\n",
       "  }\n",
       "}\n",
       "\n",
       "#sk-container-id-15 {\n",
       "  color: var(--sklearn-color-text);\n",
       "}\n",
       "\n",
       "#sk-container-id-15 pre {\n",
       "  padding: 0;\n",
       "}\n",
       "\n",
       "#sk-container-id-15 input.sk-hidden--visually {\n",
       "  border: 0;\n",
       "  clip: rect(1px 1px 1px 1px);\n",
       "  clip: rect(1px, 1px, 1px, 1px);\n",
       "  height: 1px;\n",
       "  margin: -1px;\n",
       "  overflow: hidden;\n",
       "  padding: 0;\n",
       "  position: absolute;\n",
       "  width: 1px;\n",
       "}\n",
       "\n",
       "#sk-container-id-15 div.sk-dashed-wrapped {\n",
       "  border: 1px dashed var(--sklearn-color-line);\n",
       "  margin: 0 0.4em 0.5em 0.4em;\n",
       "  box-sizing: border-box;\n",
       "  padding-bottom: 0.4em;\n",
       "  background-color: var(--sklearn-color-background);\n",
       "}\n",
       "\n",
       "#sk-container-id-15 div.sk-container {\n",
       "  /* jupyter's `normalize.less` sets `[hidden] { display: none; }`\n",
       "     but bootstrap.min.css set `[hidden] { display: none !important; }`\n",
       "     so we also need the `!important` here to be able to override the\n",
       "     default hidden behavior on the sphinx rendered scikit-learn.org.\n",
       "     See: https://github.com/scikit-learn/scikit-learn/issues/21755 */\n",
       "  display: inline-block !important;\n",
       "  position: relative;\n",
       "}\n",
       "\n",
       "#sk-container-id-15 div.sk-text-repr-fallback {\n",
       "  display: none;\n",
       "}\n",
       "\n",
       "div.sk-parallel-item,\n",
       "div.sk-serial,\n",
       "div.sk-item {\n",
       "  /* draw centered vertical line to link estimators */\n",
       "  background-image: linear-gradient(var(--sklearn-color-text-on-default-background), var(--sklearn-color-text-on-default-background));\n",
       "  background-size: 2px 100%;\n",
       "  background-repeat: no-repeat;\n",
       "  background-position: center center;\n",
       "}\n",
       "\n",
       "/* Parallel-specific style estimator block */\n",
       "\n",
       "#sk-container-id-15 div.sk-parallel-item::after {\n",
       "  content: \"\";\n",
       "  width: 100%;\n",
       "  border-bottom: 2px solid var(--sklearn-color-text-on-default-background);\n",
       "  flex-grow: 1;\n",
       "}\n",
       "\n",
       "#sk-container-id-15 div.sk-parallel {\n",
       "  display: flex;\n",
       "  align-items: stretch;\n",
       "  justify-content: center;\n",
       "  background-color: var(--sklearn-color-background);\n",
       "  position: relative;\n",
       "}\n",
       "\n",
       "#sk-container-id-15 div.sk-parallel-item {\n",
       "  display: flex;\n",
       "  flex-direction: column;\n",
       "}\n",
       "\n",
       "#sk-container-id-15 div.sk-parallel-item:first-child::after {\n",
       "  align-self: flex-end;\n",
       "  width: 50%;\n",
       "}\n",
       "\n",
       "#sk-container-id-15 div.sk-parallel-item:last-child::after {\n",
       "  align-self: flex-start;\n",
       "  width: 50%;\n",
       "}\n",
       "\n",
       "#sk-container-id-15 div.sk-parallel-item:only-child::after {\n",
       "  width: 0;\n",
       "}\n",
       "\n",
       "/* Serial-specific style estimator block */\n",
       "\n",
       "#sk-container-id-15 div.sk-serial {\n",
       "  display: flex;\n",
       "  flex-direction: column;\n",
       "  align-items: center;\n",
       "  background-color: var(--sklearn-color-background);\n",
       "  padding-right: 1em;\n",
       "  padding-left: 1em;\n",
       "}\n",
       "\n",
       "\n",
       "/* Toggleable style: style used for estimator/Pipeline/ColumnTransformer box that is\n",
       "clickable and can be expanded/collapsed.\n",
       "- Pipeline and ColumnTransformer use this feature and define the default style\n",
       "- Estimators will overwrite some part of the style using the `sk-estimator` class\n",
       "*/\n",
       "\n",
       "/* Pipeline and ColumnTransformer style (default) */\n",
       "\n",
       "#sk-container-id-15 div.sk-toggleable {\n",
       "  /* Default theme specific background. It is overwritten whether we have a\n",
       "  specific estimator or a Pipeline/ColumnTransformer */\n",
       "  background-color: var(--sklearn-color-background);\n",
       "}\n",
       "\n",
       "/* Toggleable label */\n",
       "#sk-container-id-15 label.sk-toggleable__label {\n",
       "  cursor: pointer;\n",
       "  display: block;\n",
       "  width: 100%;\n",
       "  margin-bottom: 0;\n",
       "  padding: 0.5em;\n",
       "  box-sizing: border-box;\n",
       "  text-align: center;\n",
       "}\n",
       "\n",
       "#sk-container-id-15 label.sk-toggleable__label-arrow:before {\n",
       "  /* Arrow on the left of the label */\n",
       "  content: \"▸\";\n",
       "  float: left;\n",
       "  margin-right: 0.25em;\n",
       "  color: var(--sklearn-color-icon);\n",
       "}\n",
       "\n",
       "#sk-container-id-15 label.sk-toggleable__label-arrow:hover:before {\n",
       "  color: var(--sklearn-color-text);\n",
       "}\n",
       "\n",
       "/* Toggleable content - dropdown */\n",
       "\n",
       "#sk-container-id-15 div.sk-toggleable__content {\n",
       "  max-height: 0;\n",
       "  max-width: 0;\n",
       "  overflow: hidden;\n",
       "  text-align: left;\n",
       "  /* unfitted */\n",
       "  background-color: var(--sklearn-color-unfitted-level-0);\n",
       "}\n",
       "\n",
       "#sk-container-id-15 div.sk-toggleable__content.fitted {\n",
       "  /* fitted */\n",
       "  background-color: var(--sklearn-color-fitted-level-0);\n",
       "}\n",
       "\n",
       "#sk-container-id-15 div.sk-toggleable__content pre {\n",
       "  margin: 0.2em;\n",
       "  border-radius: 0.25em;\n",
       "  color: var(--sklearn-color-text);\n",
       "  /* unfitted */\n",
       "  background-color: var(--sklearn-color-unfitted-level-0);\n",
       "}\n",
       "\n",
       "#sk-container-id-15 div.sk-toggleable__content.fitted pre {\n",
       "  /* unfitted */\n",
       "  background-color: var(--sklearn-color-fitted-level-0);\n",
       "}\n",
       "\n",
       "#sk-container-id-15 input.sk-toggleable__control:checked~div.sk-toggleable__content {\n",
       "  /* Expand drop-down */\n",
       "  max-height: 200px;\n",
       "  max-width: 100%;\n",
       "  overflow: auto;\n",
       "}\n",
       "\n",
       "#sk-container-id-15 input.sk-toggleable__control:checked~label.sk-toggleable__label-arrow:before {\n",
       "  content: \"▾\";\n",
       "}\n",
       "\n",
       "/* Pipeline/ColumnTransformer-specific style */\n",
       "\n",
       "#sk-container-id-15 div.sk-label input.sk-toggleable__control:checked~label.sk-toggleable__label {\n",
       "  color: var(--sklearn-color-text);\n",
       "  background-color: var(--sklearn-color-unfitted-level-2);\n",
       "}\n",
       "\n",
       "#sk-container-id-15 div.sk-label.fitted input.sk-toggleable__control:checked~label.sk-toggleable__label {\n",
       "  background-color: var(--sklearn-color-fitted-level-2);\n",
       "}\n",
       "\n",
       "/* Estimator-specific style */\n",
       "\n",
       "/* Colorize estimator box */\n",
       "#sk-container-id-15 div.sk-estimator input.sk-toggleable__control:checked~label.sk-toggleable__label {\n",
       "  /* unfitted */\n",
       "  background-color: var(--sklearn-color-unfitted-level-2);\n",
       "}\n",
       "\n",
       "#sk-container-id-15 div.sk-estimator.fitted input.sk-toggleable__control:checked~label.sk-toggleable__label {\n",
       "  /* fitted */\n",
       "  background-color: var(--sklearn-color-fitted-level-2);\n",
       "}\n",
       "\n",
       "#sk-container-id-15 div.sk-label label.sk-toggleable__label,\n",
       "#sk-container-id-15 div.sk-label label {\n",
       "  /* The background is the default theme color */\n",
       "  color: var(--sklearn-color-text-on-default-background);\n",
       "}\n",
       "\n",
       "/* On hover, darken the color of the background */\n",
       "#sk-container-id-15 div.sk-label:hover label.sk-toggleable__label {\n",
       "  color: var(--sklearn-color-text);\n",
       "  background-color: var(--sklearn-color-unfitted-level-2);\n",
       "}\n",
       "\n",
       "/* Label box, darken color on hover, fitted */\n",
       "#sk-container-id-15 div.sk-label.fitted:hover label.sk-toggleable__label.fitted {\n",
       "  color: var(--sklearn-color-text);\n",
       "  background-color: var(--sklearn-color-fitted-level-2);\n",
       "}\n",
       "\n",
       "/* Estimator label */\n",
       "\n",
       "#sk-container-id-15 div.sk-label label {\n",
       "  font-family: monospace;\n",
       "  font-weight: bold;\n",
       "  display: inline-block;\n",
       "  line-height: 1.2em;\n",
       "}\n",
       "\n",
       "#sk-container-id-15 div.sk-label-container {\n",
       "  text-align: center;\n",
       "}\n",
       "\n",
       "/* Estimator-specific */\n",
       "#sk-container-id-15 div.sk-estimator {\n",
       "  font-family: monospace;\n",
       "  border: 1px dotted var(--sklearn-color-border-box);\n",
       "  border-radius: 0.25em;\n",
       "  box-sizing: border-box;\n",
       "  margin-bottom: 0.5em;\n",
       "  /* unfitted */\n",
       "  background-color: var(--sklearn-color-unfitted-level-0);\n",
       "}\n",
       "\n",
       "#sk-container-id-15 div.sk-estimator.fitted {\n",
       "  /* fitted */\n",
       "  background-color: var(--sklearn-color-fitted-level-0);\n",
       "}\n",
       "\n",
       "/* on hover */\n",
       "#sk-container-id-15 div.sk-estimator:hover {\n",
       "  /* unfitted */\n",
       "  background-color: var(--sklearn-color-unfitted-level-2);\n",
       "}\n",
       "\n",
       "#sk-container-id-15 div.sk-estimator.fitted:hover {\n",
       "  /* fitted */\n",
       "  background-color: var(--sklearn-color-fitted-level-2);\n",
       "}\n",
       "\n",
       "/* Specification for estimator info (e.g. \"i\" and \"?\") */\n",
       "\n",
       "/* Common style for \"i\" and \"?\" */\n",
       "\n",
       ".sk-estimator-doc-link,\n",
       "a:link.sk-estimator-doc-link,\n",
       "a:visited.sk-estimator-doc-link {\n",
       "  float: right;\n",
       "  font-size: smaller;\n",
       "  line-height: 1em;\n",
       "  font-family: monospace;\n",
       "  background-color: var(--sklearn-color-background);\n",
       "  border-radius: 1em;\n",
       "  height: 1em;\n",
       "  width: 1em;\n",
       "  text-decoration: none !important;\n",
       "  margin-left: 1ex;\n",
       "  /* unfitted */\n",
       "  border: var(--sklearn-color-unfitted-level-1) 1pt solid;\n",
       "  color: var(--sklearn-color-unfitted-level-1);\n",
       "}\n",
       "\n",
       ".sk-estimator-doc-link.fitted,\n",
       "a:link.sk-estimator-doc-link.fitted,\n",
       "a:visited.sk-estimator-doc-link.fitted {\n",
       "  /* fitted */\n",
       "  border: var(--sklearn-color-fitted-level-1) 1pt solid;\n",
       "  color: var(--sklearn-color-fitted-level-1);\n",
       "}\n",
       "\n",
       "/* On hover */\n",
       "div.sk-estimator:hover .sk-estimator-doc-link:hover,\n",
       ".sk-estimator-doc-link:hover,\n",
       "div.sk-label-container:hover .sk-estimator-doc-link:hover,\n",
       ".sk-estimator-doc-link:hover {\n",
       "  /* unfitted */\n",
       "  background-color: var(--sklearn-color-unfitted-level-3);\n",
       "  color: var(--sklearn-color-background);\n",
       "  text-decoration: none;\n",
       "}\n",
       "\n",
       "div.sk-estimator.fitted:hover .sk-estimator-doc-link.fitted:hover,\n",
       ".sk-estimator-doc-link.fitted:hover,\n",
       "div.sk-label-container:hover .sk-estimator-doc-link.fitted:hover,\n",
       ".sk-estimator-doc-link.fitted:hover {\n",
       "  /* fitted */\n",
       "  background-color: var(--sklearn-color-fitted-level-3);\n",
       "  color: var(--sklearn-color-background);\n",
       "  text-decoration: none;\n",
       "}\n",
       "\n",
       "/* Span, style for the box shown on hovering the info icon */\n",
       ".sk-estimator-doc-link span {\n",
       "  display: none;\n",
       "  z-index: 9999;\n",
       "  position: relative;\n",
       "  font-weight: normal;\n",
       "  right: .2ex;\n",
       "  padding: .5ex;\n",
       "  margin: .5ex;\n",
       "  width: min-content;\n",
       "  min-width: 20ex;\n",
       "  max-width: 50ex;\n",
       "  color: var(--sklearn-color-text);\n",
       "  box-shadow: 2pt 2pt 4pt #999;\n",
       "  /* unfitted */\n",
       "  background: var(--sklearn-color-unfitted-level-0);\n",
       "  border: .5pt solid var(--sklearn-color-unfitted-level-3);\n",
       "}\n",
       "\n",
       ".sk-estimator-doc-link.fitted span {\n",
       "  /* fitted */\n",
       "  background: var(--sklearn-color-fitted-level-0);\n",
       "  border: var(--sklearn-color-fitted-level-3);\n",
       "}\n",
       "\n",
       ".sk-estimator-doc-link:hover span {\n",
       "  display: block;\n",
       "}\n",
       "\n",
       "/* \"?\"-specific style due to the `<a>` HTML tag */\n",
       "\n",
       "#sk-container-id-15 a.estimator_doc_link {\n",
       "  float: right;\n",
       "  font-size: 1rem;\n",
       "  line-height: 1em;\n",
       "  font-family: monospace;\n",
       "  background-color: var(--sklearn-color-background);\n",
       "  border-radius: 1rem;\n",
       "  height: 1rem;\n",
       "  width: 1rem;\n",
       "  text-decoration: none;\n",
       "  /* unfitted */\n",
       "  color: var(--sklearn-color-unfitted-level-1);\n",
       "  border: var(--sklearn-color-unfitted-level-1) 1pt solid;\n",
       "}\n",
       "\n",
       "#sk-container-id-15 a.estimator_doc_link.fitted {\n",
       "  /* fitted */\n",
       "  border: var(--sklearn-color-fitted-level-1) 1pt solid;\n",
       "  color: var(--sklearn-color-fitted-level-1);\n",
       "}\n",
       "\n",
       "/* On hover */\n",
       "#sk-container-id-15 a.estimator_doc_link:hover {\n",
       "  /* unfitted */\n",
       "  background-color: var(--sklearn-color-unfitted-level-3);\n",
       "  color: var(--sklearn-color-background);\n",
       "  text-decoration: none;\n",
       "}\n",
       "\n",
       "#sk-container-id-15 a.estimator_doc_link.fitted:hover {\n",
       "  /* fitted */\n",
       "  background-color: var(--sklearn-color-fitted-level-3);\n",
       "}\n",
       "</style><div id=\"sk-container-id-15\" class=\"sk-top-container\"><div class=\"sk-text-repr-fallback\"><pre>Pipeline(steps=[(&#x27;preprocessor&#x27;,\n",
       "                 ColumnTransformer(transformers=[(&#x27;num&#x27;, StandardScaler(),\n",
       "                                                  [&#x27;trips_in_first_30_days&#x27;,\n",
       "                                                   &#x27;avg_rating_of_driver&#x27;,\n",
       "                                                   &#x27;avg_surge&#x27;, &#x27;surge_pct&#x27;,\n",
       "                                                   &#x27;weekday_pct&#x27;, &#x27;avg_dist&#x27;,\n",
       "                                                   &#x27;avg_rating_by_driver&#x27;]),\n",
       "                                                 (&#x27;cat&#x27;,\n",
       "                                                  OneHotEncoder(drop=&#x27;first&#x27;),\n",
       "                                                  [&#x27;city&#x27;, &#x27;phone&#x27;,\n",
       "                                                   &#x27;ultimate_black_user&#x27;])])),\n",
       "                (&#x27;classifier&#x27;,\n",
       "                 XGBClassifier(base_score=None, booster=None, call...\n",
       "                               feature_types=None, feature_weights=None,\n",
       "                               gamma=None, grow_policy=None,\n",
       "                               importance_type=None,\n",
       "                               interaction_constraints=None, learning_rate=None,\n",
       "                               max_bin=None, max_cat_threshold=None,\n",
       "                               max_cat_to_onehot=None, max_delta_step=None,\n",
       "                               max_depth=None, max_leaves=None,\n",
       "                               min_child_weight=None, missing=nan,\n",
       "                               monotone_constraints=None, multi_strategy=None,\n",
       "                               n_estimators=None, n_jobs=None,\n",
       "                               num_parallel_tree=None, ...))])</pre><b>In a Jupyter environment, please rerun this cell to show the HTML representation or trust the notebook. <br />On GitHub, the HTML representation is unable to render, please try loading this page with nbviewer.org.</b></div><div class=\"sk-container\" hidden><div class=\"sk-item sk-dashed-wrapped\"><div class=\"sk-label-container\"><div class=\"sk-label fitted sk-toggleable\"><input class=\"sk-toggleable__control sk-hidden--visually\" id=\"sk-estimator-id-75\" type=\"checkbox\" ><label for=\"sk-estimator-id-75\" class=\"sk-toggleable__label fitted sk-toggleable__label-arrow fitted\">&nbsp;&nbsp;Pipeline<a class=\"sk-estimator-doc-link fitted\" rel=\"noreferrer\" target=\"_blank\" href=\"https://scikit-learn.org/1.4/modules/generated/sklearn.pipeline.Pipeline.html\">?<span>Documentation for Pipeline</span></a><span class=\"sk-estimator-doc-link fitted\">i<span>Fitted</span></span></label><div class=\"sk-toggleable__content fitted\"><pre>Pipeline(steps=[(&#x27;preprocessor&#x27;,\n",
       "                 ColumnTransformer(transformers=[(&#x27;num&#x27;, StandardScaler(),\n",
       "                                                  [&#x27;trips_in_first_30_days&#x27;,\n",
       "                                                   &#x27;avg_rating_of_driver&#x27;,\n",
       "                                                   &#x27;avg_surge&#x27;, &#x27;surge_pct&#x27;,\n",
       "                                                   &#x27;weekday_pct&#x27;, &#x27;avg_dist&#x27;,\n",
       "                                                   &#x27;avg_rating_by_driver&#x27;]),\n",
       "                                                 (&#x27;cat&#x27;,\n",
       "                                                  OneHotEncoder(drop=&#x27;first&#x27;),\n",
       "                                                  [&#x27;city&#x27;, &#x27;phone&#x27;,\n",
       "                                                   &#x27;ultimate_black_user&#x27;])])),\n",
       "                (&#x27;classifier&#x27;,\n",
       "                 XGBClassifier(base_score=None, booster=None, call...\n",
       "                               feature_types=None, feature_weights=None,\n",
       "                               gamma=None, grow_policy=None,\n",
       "                               importance_type=None,\n",
       "                               interaction_constraints=None, learning_rate=None,\n",
       "                               max_bin=None, max_cat_threshold=None,\n",
       "                               max_cat_to_onehot=None, max_delta_step=None,\n",
       "                               max_depth=None, max_leaves=None,\n",
       "                               min_child_weight=None, missing=nan,\n",
       "                               monotone_constraints=None, multi_strategy=None,\n",
       "                               n_estimators=None, n_jobs=None,\n",
       "                               num_parallel_tree=None, ...))])</pre></div> </div></div><div class=\"sk-serial\"><div class=\"sk-item sk-dashed-wrapped\"><div class=\"sk-label-container\"><div class=\"sk-label fitted sk-toggleable\"><input class=\"sk-toggleable__control sk-hidden--visually\" id=\"sk-estimator-id-76\" type=\"checkbox\" ><label for=\"sk-estimator-id-76\" class=\"sk-toggleable__label fitted sk-toggleable__label-arrow fitted\">&nbsp;preprocessor: ColumnTransformer<a class=\"sk-estimator-doc-link fitted\" rel=\"noreferrer\" target=\"_blank\" href=\"https://scikit-learn.org/1.4/modules/generated/sklearn.compose.ColumnTransformer.html\">?<span>Documentation for preprocessor: ColumnTransformer</span></a></label><div class=\"sk-toggleable__content fitted\"><pre>ColumnTransformer(transformers=[(&#x27;num&#x27;, StandardScaler(),\n",
       "                                 [&#x27;trips_in_first_30_days&#x27;,\n",
       "                                  &#x27;avg_rating_of_driver&#x27;, &#x27;avg_surge&#x27;,\n",
       "                                  &#x27;surge_pct&#x27;, &#x27;weekday_pct&#x27;, &#x27;avg_dist&#x27;,\n",
       "                                  &#x27;avg_rating_by_driver&#x27;]),\n",
       "                                (&#x27;cat&#x27;, OneHotEncoder(drop=&#x27;first&#x27;),\n",
       "                                 [&#x27;city&#x27;, &#x27;phone&#x27;, &#x27;ultimate_black_user&#x27;])])</pre></div> </div></div><div class=\"sk-parallel\"><div class=\"sk-parallel-item\"><div class=\"sk-item\"><div class=\"sk-label-container\"><div class=\"sk-label fitted sk-toggleable\"><input class=\"sk-toggleable__control sk-hidden--visually\" id=\"sk-estimator-id-77\" type=\"checkbox\" ><label for=\"sk-estimator-id-77\" class=\"sk-toggleable__label fitted sk-toggleable__label-arrow fitted\">num</label><div class=\"sk-toggleable__content fitted\"><pre>[&#x27;trips_in_first_30_days&#x27;, &#x27;avg_rating_of_driver&#x27;, &#x27;avg_surge&#x27;, &#x27;surge_pct&#x27;, &#x27;weekday_pct&#x27;, &#x27;avg_dist&#x27;, &#x27;avg_rating_by_driver&#x27;]</pre></div> </div></div><div class=\"sk-serial\"><div class=\"sk-item\"><div class=\"sk-estimator fitted sk-toggleable\"><input class=\"sk-toggleable__control sk-hidden--visually\" id=\"sk-estimator-id-78\" type=\"checkbox\" ><label for=\"sk-estimator-id-78\" class=\"sk-toggleable__label fitted sk-toggleable__label-arrow fitted\">&nbsp;StandardScaler<a class=\"sk-estimator-doc-link fitted\" rel=\"noreferrer\" target=\"_blank\" href=\"https://scikit-learn.org/1.4/modules/generated/sklearn.preprocessing.StandardScaler.html\">?<span>Documentation for StandardScaler</span></a></label><div class=\"sk-toggleable__content fitted\"><pre>StandardScaler()</pre></div> </div></div></div></div></div><div class=\"sk-parallel-item\"><div class=\"sk-item\"><div class=\"sk-label-container\"><div class=\"sk-label fitted sk-toggleable\"><input class=\"sk-toggleable__control sk-hidden--visually\" id=\"sk-estimator-id-79\" type=\"checkbox\" ><label for=\"sk-estimator-id-79\" class=\"sk-toggleable__label fitted sk-toggleable__label-arrow fitted\">cat</label><div class=\"sk-toggleable__content fitted\"><pre>[&#x27;city&#x27;, &#x27;phone&#x27;, &#x27;ultimate_black_user&#x27;]</pre></div> </div></div><div class=\"sk-serial\"><div class=\"sk-item\"><div class=\"sk-estimator fitted sk-toggleable\"><input class=\"sk-toggleable__control sk-hidden--visually\" id=\"sk-estimator-id-80\" type=\"checkbox\" ><label for=\"sk-estimator-id-80\" class=\"sk-toggleable__label fitted sk-toggleable__label-arrow fitted\">&nbsp;OneHotEncoder<a class=\"sk-estimator-doc-link fitted\" rel=\"noreferrer\" target=\"_blank\" href=\"https://scikit-learn.org/1.4/modules/generated/sklearn.preprocessing.OneHotEncoder.html\">?<span>Documentation for OneHotEncoder</span></a></label><div class=\"sk-toggleable__content fitted\"><pre>OneHotEncoder(drop=&#x27;first&#x27;)</pre></div> </div></div></div></div></div></div></div><div class=\"sk-item\"><div class=\"sk-estimator fitted sk-toggleable\"><input class=\"sk-toggleable__control sk-hidden--visually\" id=\"sk-estimator-id-81\" type=\"checkbox\" ><label for=\"sk-estimator-id-81\" class=\"sk-toggleable__label fitted sk-toggleable__label-arrow fitted\">&nbsp;XGBClassifier<a class=\"sk-estimator-doc-link fitted\" rel=\"noreferrer\" target=\"_blank\" href=\"https://xgboost.readthedocs.io/en/release_3.0.0/python/python_api.html#xgboost.XGBClassifier\">?<span>Documentation for XGBClassifier</span></a></label><div class=\"sk-toggleable__content fitted\"><pre>XGBClassifier(base_score=None, booster=None, callbacks=None,\n",
       "              colsample_bylevel=None, colsample_bynode=None,\n",
       "              colsample_bytree=None, device=None, early_stopping_rounds=None,\n",
       "              enable_categorical=False, eval_metric=&#x27;logloss&#x27;,\n",
       "              feature_types=None, feature_weights=None, gamma=None,\n",
       "              grow_policy=None, importance_type=None,\n",
       "              interaction_constraints=None, learning_rate=None, max_bin=None,\n",
       "              max_cat_threshold=None, max_cat_to_onehot=None,\n",
       "              max_delta_step=None, max_depth=None, max_leaves=None,\n",
       "              min_child_weight=None, missing=nan, monotone_constraints=None,\n",
       "              multi_strategy=None, n_estimators=None, n_jobs=None,\n",
       "              num_parallel_tree=None, ...)</pre></div> </div></div></div></div></div></div>"
      ],
      "text/plain": [
       "Pipeline(steps=[('preprocessor',\n",
       "                 ColumnTransformer(transformers=[('num', StandardScaler(),\n",
       "                                                  ['trips_in_first_30_days',\n",
       "                                                   'avg_rating_of_driver',\n",
       "                                                   'avg_surge', 'surge_pct',\n",
       "                                                   'weekday_pct', 'avg_dist',\n",
       "                                                   'avg_rating_by_driver']),\n",
       "                                                 ('cat',\n",
       "                                                  OneHotEncoder(drop='first'),\n",
       "                                                  ['city', 'phone',\n",
       "                                                   'ultimate_black_user'])])),\n",
       "                ('classifier',\n",
       "                 XGBClassifier(base_score=None, booster=None, call...\n",
       "                               feature_types=None, feature_weights=None,\n",
       "                               gamma=None, grow_policy=None,\n",
       "                               importance_type=None,\n",
       "                               interaction_constraints=None, learning_rate=None,\n",
       "                               max_bin=None, max_cat_threshold=None,\n",
       "                               max_cat_to_onehot=None, max_delta_step=None,\n",
       "                               max_depth=None, max_leaves=None,\n",
       "                               min_child_weight=None, missing=nan,\n",
       "                               monotone_constraints=None, multi_strategy=None,\n",
       "                               n_estimators=None, n_jobs=None,\n",
       "                               num_parallel_tree=None, ...))])"
      ]
     },
     "execution_count": 428,
     "metadata": {},
     "output_type": "execute_result"
    }
   ],
   "source": [
    "X_train, X_test, y_train, y_test = train_test_split(\n",
    "    X, y, test_size=0.2\n",
    ")\n",
    "\n",
    "xgb_pipeline.fit(X_train, y_train)"
   ]
  },
  {
   "cell_type": "code",
   "execution_count": 429,
   "id": "2deff9c8",
   "metadata": {},
   "outputs": [
    {
     "name": "stdout",
     "output_type": "stream",
     "text": [
      "Confusion Matrix:\n",
      " [[5391  867]\n",
      " [1253 2489]]\n",
      "\n",
      "Classification Report:\n",
      "               precision    recall  f1-score   support\n",
      "\n",
      "       False       0.81      0.86      0.84      6258\n",
      "        True       0.74      0.67      0.70      3742\n",
      "\n",
      "    accuracy                           0.79     10000\n",
      "   macro avg       0.78      0.76      0.77     10000\n",
      "weighted avg       0.79      0.79      0.79     10000\n",
      "\n",
      "ROC AUC Score: 0.8543886914007152\n"
     ]
    }
   ],
   "source": [
    "y_pred = xgb_pipeline.predict(X_test)\n",
    "y_prob = xgb_pipeline.predict_proba(X_test)[:, 1]\n",
    "\n",
    "print(\"Confusion Matrix:\\n\", confusion_matrix(y_test, y_pred))\n",
    "print(\"\\nClassification Report:\\n\", classification_report(y_test, y_pred))\n",
    "print(\"ROC AUC Score:\", roc_auc_score(y_test, y_prob))"
   ]
  },
  {
   "cell_type": "markdown",
   "id": "b2cce5b8",
   "metadata": {},
   "source": [
    "### XGBoost results:\n",
    "##### 79% of users were correctly classified\n",
    "##### The AUC score, at .86 means is .03 higher than our Random Forest tests.\n",
    "##### The recall rate is the highest so far, but only incrementally so."
   ]
  },
  {
   "cell_type": "markdown",
   "id": "e9ec172b",
   "metadata": {},
   "source": [
    "### The XGBoost performance predictor is the best so far and the results are good enough to continue with.\n",
    "###### Let's take a look at the imbalance"
   ]
  },
  {
   "cell_type": "code",
   "execution_count": 430,
   "id": "bb3ff0d7",
   "metadata": {},
   "outputs": [
    {
     "data": {
      "text/plain": [
       "retained\n",
       "False    0.62392\n",
       "True     0.37608\n",
       "Name: proportion, dtype: float64"
      ]
     },
     "execution_count": 430,
     "metadata": {},
     "output_type": "execute_result"
    }
   ],
   "source": [
    "df2['retained'].value_counts(normalize=True)"
   ]
  },
  {
   "cell_type": "code",
   "execution_count": 431,
   "id": "76afb248",
   "metadata": {},
   "outputs": [
    {
     "data": {
      "text/plain": [
       "retained\n",
       "False    31196\n",
       "True     18804\n",
       "Name: count, dtype: int64"
      ]
     },
     "execution_count": 431,
     "metadata": {},
     "output_type": "execute_result"
    }
   ],
   "source": [
    "df2['retained'].value_counts()"
   ]
  },
  {
   "cell_type": "markdown",
   "id": "11f78600",
   "metadata": {},
   "source": [
    "#### So there is SOME imbalance that we need to be careful.  I'm going to statify a bit to see if that improves the result:"
   ]
  },
  {
   "cell_type": "code",
   "execution_count": 432,
   "id": "713af9d0",
   "metadata": {},
   "outputs": [
    {
     "name": "stdout",
     "output_type": "stream",
     "text": [
      "scale_pos_weight: 1.6590087215486067\n"
     ]
    }
   ],
   "source": [
    "n_negative = (df2['retained'] == False).sum()\n",
    "n_positive = (df2['retained'] == True).sum()\n",
    "scale_pos_weight = n_negative / n_positive\n",
    "print(\"scale_pos_weight:\", scale_pos_weight)\n",
    "\n",
    "\n",
    "# Changing booleans as integers...should be fine as long as I don't consider it ordinal\n",
    "df2['ultimate_black_user'] = df2['ultimate_black_user'].astype(int)\n",
    "df2['retained'] = df2['retained'].astype(int)\n",
    "\n",
    "\n",
    "# \"One-hot\" encode categorical columns (otherwise I'm getting an error)\n",
    "df2_encoded = pd.get_dummies(df2, columns=['city', 'phone'], drop_first=True)\n",
    "\n",
    "\n",
    "# Dropping date columns...again\n",
    "df2_encoded = df2_encoded.drop(['signup_date', 'last_trip_date'], axis=1)\n",
    "\n",
    "\n",
    "# Split features and target\n",
    "X = df2_encoded.drop('retained', axis=1)\n",
    "y = df2_encoded['retained']\n",
    "\n",
    "X_train, X_test, y_train, y_test = train_test_split(X, y, stratify=y, test_size=0.2)"
   ]
  },
  {
   "cell_type": "code",
   "execution_count": 433,
   "id": "aeb882bb",
   "metadata": {
    "scrolled": true
   },
   "outputs": [
    {
     "name": "stderr",
     "output_type": "stream",
     "text": [
      "C:\\Users\\emcdo\\anaconda3\\Lib\\site-packages\\xgboost\\training.py:183: UserWarning: [16:03:06] WARNING: C:\\actions-runner\\_work\\xgboost\\xgboost\\src\\learner.cc:738: \n",
      "Parameters: { \"use_label_encoder\" } are not used.\n",
      "\n",
      "  bst.update(dtrain, iteration=i, fobj=obj)\n"
     ]
    },
    {
     "data": {
      "text/html": [
       "<style>#sk-container-id-16 {\n",
       "  /* Definition of color scheme common for light and dark mode */\n",
       "  --sklearn-color-text: black;\n",
       "  --sklearn-color-line: gray;\n",
       "  /* Definition of color scheme for unfitted estimators */\n",
       "  --sklearn-color-unfitted-level-0: #fff5e6;\n",
       "  --sklearn-color-unfitted-level-1: #f6e4d2;\n",
       "  --sklearn-color-unfitted-level-2: #ffe0b3;\n",
       "  --sklearn-color-unfitted-level-3: chocolate;\n",
       "  /* Definition of color scheme for fitted estimators */\n",
       "  --sklearn-color-fitted-level-0: #f0f8ff;\n",
       "  --sklearn-color-fitted-level-1: #d4ebff;\n",
       "  --sklearn-color-fitted-level-2: #b3dbfd;\n",
       "  --sklearn-color-fitted-level-3: cornflowerblue;\n",
       "\n",
       "  /* Specific color for light theme */\n",
       "  --sklearn-color-text-on-default-background: var(--sg-text-color, var(--theme-code-foreground, var(--jp-content-font-color1, black)));\n",
       "  --sklearn-color-background: var(--sg-background-color, var(--theme-background, var(--jp-layout-color0, white)));\n",
       "  --sklearn-color-border-box: var(--sg-text-color, var(--theme-code-foreground, var(--jp-content-font-color1, black)));\n",
       "  --sklearn-color-icon: #696969;\n",
       "\n",
       "  @media (prefers-color-scheme: dark) {\n",
       "    /* Redefinition of color scheme for dark theme */\n",
       "    --sklearn-color-text-on-default-background: var(--sg-text-color, var(--theme-code-foreground, var(--jp-content-font-color1, white)));\n",
       "    --sklearn-color-background: var(--sg-background-color, var(--theme-background, var(--jp-layout-color0, #111)));\n",
       "    --sklearn-color-border-box: var(--sg-text-color, var(--theme-code-foreground, var(--jp-content-font-color1, white)));\n",
       "    --sklearn-color-icon: #878787;\n",
       "  }\n",
       "}\n",
       "\n",
       "#sk-container-id-16 {\n",
       "  color: var(--sklearn-color-text);\n",
       "}\n",
       "\n",
       "#sk-container-id-16 pre {\n",
       "  padding: 0;\n",
       "}\n",
       "\n",
       "#sk-container-id-16 input.sk-hidden--visually {\n",
       "  border: 0;\n",
       "  clip: rect(1px 1px 1px 1px);\n",
       "  clip: rect(1px, 1px, 1px, 1px);\n",
       "  height: 1px;\n",
       "  margin: -1px;\n",
       "  overflow: hidden;\n",
       "  padding: 0;\n",
       "  position: absolute;\n",
       "  width: 1px;\n",
       "}\n",
       "\n",
       "#sk-container-id-16 div.sk-dashed-wrapped {\n",
       "  border: 1px dashed var(--sklearn-color-line);\n",
       "  margin: 0 0.4em 0.5em 0.4em;\n",
       "  box-sizing: border-box;\n",
       "  padding-bottom: 0.4em;\n",
       "  background-color: var(--sklearn-color-background);\n",
       "}\n",
       "\n",
       "#sk-container-id-16 div.sk-container {\n",
       "  /* jupyter's `normalize.less` sets `[hidden] { display: none; }`\n",
       "     but bootstrap.min.css set `[hidden] { display: none !important; }`\n",
       "     so we also need the `!important` here to be able to override the\n",
       "     default hidden behavior on the sphinx rendered scikit-learn.org.\n",
       "     See: https://github.com/scikit-learn/scikit-learn/issues/21755 */\n",
       "  display: inline-block !important;\n",
       "  position: relative;\n",
       "}\n",
       "\n",
       "#sk-container-id-16 div.sk-text-repr-fallback {\n",
       "  display: none;\n",
       "}\n",
       "\n",
       "div.sk-parallel-item,\n",
       "div.sk-serial,\n",
       "div.sk-item {\n",
       "  /* draw centered vertical line to link estimators */\n",
       "  background-image: linear-gradient(var(--sklearn-color-text-on-default-background), var(--sklearn-color-text-on-default-background));\n",
       "  background-size: 2px 100%;\n",
       "  background-repeat: no-repeat;\n",
       "  background-position: center center;\n",
       "}\n",
       "\n",
       "/* Parallel-specific style estimator block */\n",
       "\n",
       "#sk-container-id-16 div.sk-parallel-item::after {\n",
       "  content: \"\";\n",
       "  width: 100%;\n",
       "  border-bottom: 2px solid var(--sklearn-color-text-on-default-background);\n",
       "  flex-grow: 1;\n",
       "}\n",
       "\n",
       "#sk-container-id-16 div.sk-parallel {\n",
       "  display: flex;\n",
       "  align-items: stretch;\n",
       "  justify-content: center;\n",
       "  background-color: var(--sklearn-color-background);\n",
       "  position: relative;\n",
       "}\n",
       "\n",
       "#sk-container-id-16 div.sk-parallel-item {\n",
       "  display: flex;\n",
       "  flex-direction: column;\n",
       "}\n",
       "\n",
       "#sk-container-id-16 div.sk-parallel-item:first-child::after {\n",
       "  align-self: flex-end;\n",
       "  width: 50%;\n",
       "}\n",
       "\n",
       "#sk-container-id-16 div.sk-parallel-item:last-child::after {\n",
       "  align-self: flex-start;\n",
       "  width: 50%;\n",
       "}\n",
       "\n",
       "#sk-container-id-16 div.sk-parallel-item:only-child::after {\n",
       "  width: 0;\n",
       "}\n",
       "\n",
       "/* Serial-specific style estimator block */\n",
       "\n",
       "#sk-container-id-16 div.sk-serial {\n",
       "  display: flex;\n",
       "  flex-direction: column;\n",
       "  align-items: center;\n",
       "  background-color: var(--sklearn-color-background);\n",
       "  padding-right: 1em;\n",
       "  padding-left: 1em;\n",
       "}\n",
       "\n",
       "\n",
       "/* Toggleable style: style used for estimator/Pipeline/ColumnTransformer box that is\n",
       "clickable and can be expanded/collapsed.\n",
       "- Pipeline and ColumnTransformer use this feature and define the default style\n",
       "- Estimators will overwrite some part of the style using the `sk-estimator` class\n",
       "*/\n",
       "\n",
       "/* Pipeline and ColumnTransformer style (default) */\n",
       "\n",
       "#sk-container-id-16 div.sk-toggleable {\n",
       "  /* Default theme specific background. It is overwritten whether we have a\n",
       "  specific estimator or a Pipeline/ColumnTransformer */\n",
       "  background-color: var(--sklearn-color-background);\n",
       "}\n",
       "\n",
       "/* Toggleable label */\n",
       "#sk-container-id-16 label.sk-toggleable__label {\n",
       "  cursor: pointer;\n",
       "  display: block;\n",
       "  width: 100%;\n",
       "  margin-bottom: 0;\n",
       "  padding: 0.5em;\n",
       "  box-sizing: border-box;\n",
       "  text-align: center;\n",
       "}\n",
       "\n",
       "#sk-container-id-16 label.sk-toggleable__label-arrow:before {\n",
       "  /* Arrow on the left of the label */\n",
       "  content: \"▸\";\n",
       "  float: left;\n",
       "  margin-right: 0.25em;\n",
       "  color: var(--sklearn-color-icon);\n",
       "}\n",
       "\n",
       "#sk-container-id-16 label.sk-toggleable__label-arrow:hover:before {\n",
       "  color: var(--sklearn-color-text);\n",
       "}\n",
       "\n",
       "/* Toggleable content - dropdown */\n",
       "\n",
       "#sk-container-id-16 div.sk-toggleable__content {\n",
       "  max-height: 0;\n",
       "  max-width: 0;\n",
       "  overflow: hidden;\n",
       "  text-align: left;\n",
       "  /* unfitted */\n",
       "  background-color: var(--sklearn-color-unfitted-level-0);\n",
       "}\n",
       "\n",
       "#sk-container-id-16 div.sk-toggleable__content.fitted {\n",
       "  /* fitted */\n",
       "  background-color: var(--sklearn-color-fitted-level-0);\n",
       "}\n",
       "\n",
       "#sk-container-id-16 div.sk-toggleable__content pre {\n",
       "  margin: 0.2em;\n",
       "  border-radius: 0.25em;\n",
       "  color: var(--sklearn-color-text);\n",
       "  /* unfitted */\n",
       "  background-color: var(--sklearn-color-unfitted-level-0);\n",
       "}\n",
       "\n",
       "#sk-container-id-16 div.sk-toggleable__content.fitted pre {\n",
       "  /* unfitted */\n",
       "  background-color: var(--sklearn-color-fitted-level-0);\n",
       "}\n",
       "\n",
       "#sk-container-id-16 input.sk-toggleable__control:checked~div.sk-toggleable__content {\n",
       "  /* Expand drop-down */\n",
       "  max-height: 200px;\n",
       "  max-width: 100%;\n",
       "  overflow: auto;\n",
       "}\n",
       "\n",
       "#sk-container-id-16 input.sk-toggleable__control:checked~label.sk-toggleable__label-arrow:before {\n",
       "  content: \"▾\";\n",
       "}\n",
       "\n",
       "/* Pipeline/ColumnTransformer-specific style */\n",
       "\n",
       "#sk-container-id-16 div.sk-label input.sk-toggleable__control:checked~label.sk-toggleable__label {\n",
       "  color: var(--sklearn-color-text);\n",
       "  background-color: var(--sklearn-color-unfitted-level-2);\n",
       "}\n",
       "\n",
       "#sk-container-id-16 div.sk-label.fitted input.sk-toggleable__control:checked~label.sk-toggleable__label {\n",
       "  background-color: var(--sklearn-color-fitted-level-2);\n",
       "}\n",
       "\n",
       "/* Estimator-specific style */\n",
       "\n",
       "/* Colorize estimator box */\n",
       "#sk-container-id-16 div.sk-estimator input.sk-toggleable__control:checked~label.sk-toggleable__label {\n",
       "  /* unfitted */\n",
       "  background-color: var(--sklearn-color-unfitted-level-2);\n",
       "}\n",
       "\n",
       "#sk-container-id-16 div.sk-estimator.fitted input.sk-toggleable__control:checked~label.sk-toggleable__label {\n",
       "  /* fitted */\n",
       "  background-color: var(--sklearn-color-fitted-level-2);\n",
       "}\n",
       "\n",
       "#sk-container-id-16 div.sk-label label.sk-toggleable__label,\n",
       "#sk-container-id-16 div.sk-label label {\n",
       "  /* The background is the default theme color */\n",
       "  color: var(--sklearn-color-text-on-default-background);\n",
       "}\n",
       "\n",
       "/* On hover, darken the color of the background */\n",
       "#sk-container-id-16 div.sk-label:hover label.sk-toggleable__label {\n",
       "  color: var(--sklearn-color-text);\n",
       "  background-color: var(--sklearn-color-unfitted-level-2);\n",
       "}\n",
       "\n",
       "/* Label box, darken color on hover, fitted */\n",
       "#sk-container-id-16 div.sk-label.fitted:hover label.sk-toggleable__label.fitted {\n",
       "  color: var(--sklearn-color-text);\n",
       "  background-color: var(--sklearn-color-fitted-level-2);\n",
       "}\n",
       "\n",
       "/* Estimator label */\n",
       "\n",
       "#sk-container-id-16 div.sk-label label {\n",
       "  font-family: monospace;\n",
       "  font-weight: bold;\n",
       "  display: inline-block;\n",
       "  line-height: 1.2em;\n",
       "}\n",
       "\n",
       "#sk-container-id-16 div.sk-label-container {\n",
       "  text-align: center;\n",
       "}\n",
       "\n",
       "/* Estimator-specific */\n",
       "#sk-container-id-16 div.sk-estimator {\n",
       "  font-family: monospace;\n",
       "  border: 1px dotted var(--sklearn-color-border-box);\n",
       "  border-radius: 0.25em;\n",
       "  box-sizing: border-box;\n",
       "  margin-bottom: 0.5em;\n",
       "  /* unfitted */\n",
       "  background-color: var(--sklearn-color-unfitted-level-0);\n",
       "}\n",
       "\n",
       "#sk-container-id-16 div.sk-estimator.fitted {\n",
       "  /* fitted */\n",
       "  background-color: var(--sklearn-color-fitted-level-0);\n",
       "}\n",
       "\n",
       "/* on hover */\n",
       "#sk-container-id-16 div.sk-estimator:hover {\n",
       "  /* unfitted */\n",
       "  background-color: var(--sklearn-color-unfitted-level-2);\n",
       "}\n",
       "\n",
       "#sk-container-id-16 div.sk-estimator.fitted:hover {\n",
       "  /* fitted */\n",
       "  background-color: var(--sklearn-color-fitted-level-2);\n",
       "}\n",
       "\n",
       "/* Specification for estimator info (e.g. \"i\" and \"?\") */\n",
       "\n",
       "/* Common style for \"i\" and \"?\" */\n",
       "\n",
       ".sk-estimator-doc-link,\n",
       "a:link.sk-estimator-doc-link,\n",
       "a:visited.sk-estimator-doc-link {\n",
       "  float: right;\n",
       "  font-size: smaller;\n",
       "  line-height: 1em;\n",
       "  font-family: monospace;\n",
       "  background-color: var(--sklearn-color-background);\n",
       "  border-radius: 1em;\n",
       "  height: 1em;\n",
       "  width: 1em;\n",
       "  text-decoration: none !important;\n",
       "  margin-left: 1ex;\n",
       "  /* unfitted */\n",
       "  border: var(--sklearn-color-unfitted-level-1) 1pt solid;\n",
       "  color: var(--sklearn-color-unfitted-level-1);\n",
       "}\n",
       "\n",
       ".sk-estimator-doc-link.fitted,\n",
       "a:link.sk-estimator-doc-link.fitted,\n",
       "a:visited.sk-estimator-doc-link.fitted {\n",
       "  /* fitted */\n",
       "  border: var(--sklearn-color-fitted-level-1) 1pt solid;\n",
       "  color: var(--sklearn-color-fitted-level-1);\n",
       "}\n",
       "\n",
       "/* On hover */\n",
       "div.sk-estimator:hover .sk-estimator-doc-link:hover,\n",
       ".sk-estimator-doc-link:hover,\n",
       "div.sk-label-container:hover .sk-estimator-doc-link:hover,\n",
       ".sk-estimator-doc-link:hover {\n",
       "  /* unfitted */\n",
       "  background-color: var(--sklearn-color-unfitted-level-3);\n",
       "  color: var(--sklearn-color-background);\n",
       "  text-decoration: none;\n",
       "}\n",
       "\n",
       "div.sk-estimator.fitted:hover .sk-estimator-doc-link.fitted:hover,\n",
       ".sk-estimator-doc-link.fitted:hover,\n",
       "div.sk-label-container:hover .sk-estimator-doc-link.fitted:hover,\n",
       ".sk-estimator-doc-link.fitted:hover {\n",
       "  /* fitted */\n",
       "  background-color: var(--sklearn-color-fitted-level-3);\n",
       "  color: var(--sklearn-color-background);\n",
       "  text-decoration: none;\n",
       "}\n",
       "\n",
       "/* Span, style for the box shown on hovering the info icon */\n",
       ".sk-estimator-doc-link span {\n",
       "  display: none;\n",
       "  z-index: 9999;\n",
       "  position: relative;\n",
       "  font-weight: normal;\n",
       "  right: .2ex;\n",
       "  padding: .5ex;\n",
       "  margin: .5ex;\n",
       "  width: min-content;\n",
       "  min-width: 20ex;\n",
       "  max-width: 50ex;\n",
       "  color: var(--sklearn-color-text);\n",
       "  box-shadow: 2pt 2pt 4pt #999;\n",
       "  /* unfitted */\n",
       "  background: var(--sklearn-color-unfitted-level-0);\n",
       "  border: .5pt solid var(--sklearn-color-unfitted-level-3);\n",
       "}\n",
       "\n",
       ".sk-estimator-doc-link.fitted span {\n",
       "  /* fitted */\n",
       "  background: var(--sklearn-color-fitted-level-0);\n",
       "  border: var(--sklearn-color-fitted-level-3);\n",
       "}\n",
       "\n",
       ".sk-estimator-doc-link:hover span {\n",
       "  display: block;\n",
       "}\n",
       "\n",
       "/* \"?\"-specific style due to the `<a>` HTML tag */\n",
       "\n",
       "#sk-container-id-16 a.estimator_doc_link {\n",
       "  float: right;\n",
       "  font-size: 1rem;\n",
       "  line-height: 1em;\n",
       "  font-family: monospace;\n",
       "  background-color: var(--sklearn-color-background);\n",
       "  border-radius: 1rem;\n",
       "  height: 1rem;\n",
       "  width: 1rem;\n",
       "  text-decoration: none;\n",
       "  /* unfitted */\n",
       "  color: var(--sklearn-color-unfitted-level-1);\n",
       "  border: var(--sklearn-color-unfitted-level-1) 1pt solid;\n",
       "}\n",
       "\n",
       "#sk-container-id-16 a.estimator_doc_link.fitted {\n",
       "  /* fitted */\n",
       "  border: var(--sklearn-color-fitted-level-1) 1pt solid;\n",
       "  color: var(--sklearn-color-fitted-level-1);\n",
       "}\n",
       "\n",
       "/* On hover */\n",
       "#sk-container-id-16 a.estimator_doc_link:hover {\n",
       "  /* unfitted */\n",
       "  background-color: var(--sklearn-color-unfitted-level-3);\n",
       "  color: var(--sklearn-color-background);\n",
       "  text-decoration: none;\n",
       "}\n",
       "\n",
       "#sk-container-id-16 a.estimator_doc_link.fitted:hover {\n",
       "  /* fitted */\n",
       "  background-color: var(--sklearn-color-fitted-level-3);\n",
       "}\n",
       "</style><div id=\"sk-container-id-16\" class=\"sk-top-container\"><div class=\"sk-text-repr-fallback\"><pre>XGBClassifier(base_score=None, booster=None, callbacks=None,\n",
       "              colsample_bylevel=None, colsample_bynode=None,\n",
       "              colsample_bytree=None, device=None, early_stopping_rounds=None,\n",
       "              enable_categorical=False, eval_metric=&#x27;logloss&#x27;,\n",
       "              feature_types=None, feature_weights=None, gamma=None,\n",
       "              grow_policy=None, importance_type=None,\n",
       "              interaction_constraints=None, learning_rate=None, max_bin=None,\n",
       "              max_cat_threshold=None, max_cat_to_onehot=None, max_delta_step=1,\n",
       "              max_depth=None, max_leaves=None, min_child_weight=None,\n",
       "              missing=nan, monotone_constraints=None, multi_strategy=None,\n",
       "              n_estimators=None, n_jobs=None, num_parallel_tree=None, ...)</pre><b>In a Jupyter environment, please rerun this cell to show the HTML representation or trust the notebook. <br />On GitHub, the HTML representation is unable to render, please try loading this page with nbviewer.org.</b></div><div class=\"sk-container\" hidden><div class=\"sk-item\"><div class=\"sk-estimator fitted sk-toggleable\"><input class=\"sk-toggleable__control sk-hidden--visually\" id=\"sk-estimator-id-82\" type=\"checkbox\" checked><label for=\"sk-estimator-id-82\" class=\"sk-toggleable__label fitted sk-toggleable__label-arrow fitted\">&nbsp;&nbsp;XGBClassifier<a class=\"sk-estimator-doc-link fitted\" rel=\"noreferrer\" target=\"_blank\" href=\"https://xgboost.readthedocs.io/en/release_3.0.0/python/python_api.html#xgboost.XGBClassifier\">?<span>Documentation for XGBClassifier</span></a><span class=\"sk-estimator-doc-link fitted\">i<span>Fitted</span></span></label><div class=\"sk-toggleable__content fitted\"><pre>XGBClassifier(base_score=None, booster=None, callbacks=None,\n",
       "              colsample_bylevel=None, colsample_bynode=None,\n",
       "              colsample_bytree=None, device=None, early_stopping_rounds=None,\n",
       "              enable_categorical=False, eval_metric=&#x27;logloss&#x27;,\n",
       "              feature_types=None, feature_weights=None, gamma=None,\n",
       "              grow_policy=None, importance_type=None,\n",
       "              interaction_constraints=None, learning_rate=None, max_bin=None,\n",
       "              max_cat_threshold=None, max_cat_to_onehot=None, max_delta_step=1,\n",
       "              max_depth=None, max_leaves=None, min_child_weight=None,\n",
       "              missing=nan, monotone_constraints=None, multi_strategy=None,\n",
       "              n_estimators=None, n_jobs=None, num_parallel_tree=None, ...)</pre></div> </div></div></div></div>"
      ],
      "text/plain": [
       "XGBClassifier(base_score=None, booster=None, callbacks=None,\n",
       "              colsample_bylevel=None, colsample_bynode=None,\n",
       "              colsample_bytree=None, device=None, early_stopping_rounds=None,\n",
       "              enable_categorical=False, eval_metric='logloss',\n",
       "              feature_types=None, feature_weights=None, gamma=None,\n",
       "              grow_policy=None, importance_type=None,\n",
       "              interaction_constraints=None, learning_rate=None, max_bin=None,\n",
       "              max_cat_threshold=None, max_cat_to_onehot=None, max_delta_step=1,\n",
       "              max_depth=None, max_leaves=None, min_child_weight=None,\n",
       "              missing=nan, monotone_constraints=None, multi_strategy=None,\n",
       "              n_estimators=None, n_jobs=None, num_parallel_tree=None, ...)"
      ]
     },
     "execution_count": 433,
     "metadata": {},
     "output_type": "execute_result"
    }
   ],
   "source": [
    "model = XGBClassifier(\n",
    "    scale_pos_weight=scale_pos_weight,\n",
    "    max_delta_step=1, \n",
    "    use_label_encoder=False,\n",
    "    eval_metric='logloss',\n",
    ")\n",
    "model.fit(X_train, y_train)"
   ]
  },
  {
   "cell_type": "code",
   "execution_count": 440,
   "id": "df633b92",
   "metadata": {},
   "outputs": [
    {
     "name": "stdout",
     "output_type": "stream",
     "text": [
      "Best threshold for F1: 0.5141655\n",
      "F1 Score: 0.7242542153047989\n"
     ]
    }
   ],
   "source": [
    "# Find tha threshold because of the imbalance\n",
    "y_pred_proba = model.predict_proba(X_test)[:,1]\n",
    "precision, recall, thresholds = precision_recall_curve(y_test, y_pred_proba)\n",
    "f1_scores = 2*precision*recall/(precision+recall)\n",
    "best_threshold = thresholds[np.argmax(f1_scores)]\n",
    "\n",
    "print(\"Best threshold for F1:\", best_threshold)\n",
    "\n",
    "# Apply threshold\n",
    "y_pred = (y_pred_proba >= best_threshold).astype(int)\n",
    "print(\"F1 Score:\", f1_score(y_test, y_pred))"
   ]
  },
  {
   "cell_type": "code",
   "execution_count": 438,
   "id": "ad0e1d62",
   "metadata": {},
   "outputs": [
    {
     "name": "stdout",
     "output_type": "stream",
     "text": [
      "              precision    recall  f1-score   support\n",
      "\n",
      "           0       0.84      0.81      0.83      6239\n",
      "           1       0.71      0.74      0.72      3761\n",
      "\n",
      "    accuracy                           0.79     10000\n",
      "   macro avg       0.77      0.78      0.78     10000\n",
      "weighted avg       0.79      0.79      0.79     10000\n",
      "\n",
      "ROC AUC: 0.8609292210712018\n"
     ]
    }
   ],
   "source": [
    "print(classification_report(y_test, y_pred))\n",
    "print(\"ROC AUC:\", roc_auc_score(y_test, y_pred_proba))"
   ]
  },
  {
   "cell_type": "markdown",
   "id": "84b6625b",
   "metadata": {},
   "source": [
    "### SMOTE XGBoost results:\n",
    "##### 78% of users were correctly classified\n",
    "##### The AUC score, at .86 means is about the same\n",
    "##### The recall rate is much better, above 75% in both True and False.  This is much better overall!"
   ]
  },
  {
   "cell_type": "markdown",
   "id": "3fb4a755",
   "metadata": {},
   "source": [
    "# How can we use this?\n",
    "\n",
    "### Feature importance\n",
    "    - We can now use this utility to identify which features most influence retention\n",
    "    - We can segment user groups and tailor future efforts accordingly and track for changes\n",
    "\n",
    "### Retention tactics\n",
    "    - We can notice individuals about to cross the 'active' threshhold and leverage efforts accordingly\n",
    "    - We can promote options that are more likely to lead to future retention\n",
    "    - We can split off drivers by location to look for local trends as well\n",
    "    \n",
    "### Measure change\n",
    "    - Future campaigns and changes can have their effectiveness tracked, allowing for early adjustment\n",
    "    - ** This model should be re-trained periodically (every 4-6 weeks is my recommendation) **"
   ]
  },
  {
   "cell_type": "markdown",
   "id": "e5fe916b",
   "metadata": {},
   "source": [
    "##### For my own curiosity, here is the ranking of feature importance:"
   ]
  },
  {
   "cell_type": "code",
   "execution_count": 436,
   "id": "a528e96c",
   "metadata": {},
   "outputs": [
    {
     "data": {
      "image/png": "[encoded data removed]",
      "text/plain": [
       "<Figure size 640x480 with 1 Axes>"
      ]
     },
     "metadata": {},
     "output_type": "display_data"
    }
   ],
   "source": [
    "plot_importance(model, max_num_features=10, importance_type='weight', grid=False)\n",
    "plt.title('Top 10 Feature Importances')\n",
    "plt.show()"
   ]
  }
 ],
 "metadata": {
  "kernelspec": {
   "display_name": "Python 3 (ipykernel)",
   "language": "python",
   "name": "python3"
  },
  "language_info": {
   "codemirror_mode": {
    "name": "ipython",
    "version": 3
   },
   "file_extension": ".py",
   "mimetype": "text/x-python",
   "name": "python",
   "nbconvert_exporter": "python",
   "pygments_lexer": "ipython3",
   "version": "3.12.3"
  }
 },
 "nbformat": 4,
 "nbformat_minor": 5
}
