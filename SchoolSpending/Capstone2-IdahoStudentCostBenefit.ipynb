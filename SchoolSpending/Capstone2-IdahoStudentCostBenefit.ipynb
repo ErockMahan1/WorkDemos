{
 "cells": [
  {
   "cell_type": "code",
   "execution_count": 5,
   "id": "31a3916b-e930-4f44-af09-dd8c855b27a8",
   "metadata": {},
   "outputs": [],
   "source": [
    "import pandas as pd\n",
    "import numpy as np\n",
    "import os\n",
    "import matplotlib.pyplot as plt\n",
    "import seaborn as sns\n",
    "from sklearn.decomposition import PCA\n",
    "from sklearn.preprocessing import scale\n",
    "\n",
    "import pandas as pd\n",
    "import numpy as np\n",
    "import os\n",
    "import pickle\n",
    "import matplotlib.pyplot as plt\n",
    "import seaborn as sns\n",
    "from sklearn import __version__ as sklearn_version\n",
    "from sklearn.decomposition import PCA\n",
    "from sklearn.preprocessing import scale\n",
    "from sklearn.model_selection import train_test_split, cross_validate, GridSearchCV, learning_curve\n",
    "from sklearn.preprocessing import StandardScaler, MinMaxScaler\n",
    "from sklearn.dummy import DummyRegressor\n",
    "from sklearn.linear_model import LinearRegression\n",
    "from sklearn.ensemble import RandomForestRegressor\n",
    "from sklearn.metrics import r2_score, mean_squared_error, mean_absolute_error\n",
    "from sklearn.pipeline import make_pipeline\n",
    "from sklearn.impute import SimpleImputer\n",
    "from sklearn.feature_selection import SelectKBest, f_regression\n",
    "import datetime"
   ]
  },
  {
   "cell_type": "code",
   "execution_count": 17,
   "id": "15585029-4b68-4acf-853b-7c615b113c0f",
   "metadata": {},
   "outputs": [],
   "source": [
    "#print(os.listdir())\n",
    "\n",
    "#ISAT = pd.read_excel('2023-2024-ISAT-Assessment-Aggregates-All-Students-REDACTED.xlsx', engine=\"openpyxl\")\n",
    "#IRI = pd.read_excel('2024-2025-Fall-IRI-Level-Results-ALL-STUDENTS.xlsx', engine=\"openpyxl\")\n",
    "#GradRate = pd.read_excel('Class-of-2024-Four-Year-Graduation-Rate.xlsx', engine=\"openpyxl\")\n",
    "DistrictInfo = pd.read_excel('School+District+Aggregated+OpenGov+Consolidated.xlsx', sheet_name=\"2022\",engine=\"openpyxl\")"
   ]
  },
  {
   "cell_type": "raw",
   "id": "08ea789f-4de8-4b0d-b25f-f9ab4382265d",
   "metadata": {},
   "source": [
    "print(DistrictInfo.head())   #why won't this give me a new result?"
   ]
  },
  {
   "cell_type": "code",
   "execution_count": null,
   "id": "2548524d-2916-49de-9eb3-5b34cfa6387f",
   "metadata": {},
   "outputs": [],
   "source": []
  }
 ],
 "metadata": {
  "kernelspec": {
   "display_name": "Python 3 (ipykernel)",
   "language": "python",
   "name": "python3"
  },
  "language_info": {
   "codemirror_mode": {
    "name": "ipython",
    "version": 3
   },
   "file_extension": ".py",
   "mimetype": "text/x-python",
   "name": "python",
   "nbconvert_exporter": "python",
   "pygments_lexer": "ipython3",
   "version": "3.12.4"
  }
 },
 "nbformat": 4,
 "nbformat_minor": 5
}
